{
 "cells": [
  {
   "cell_type": "markdown",
   "metadata": {},
   "source": [
    "-----\n",
    "# Data Preprocessing\n",
    "-----\n",
    "\n",
    "##TODO: ADD SUMMARY/CONC"
   ]
  },
  {
   "cell_type": "markdown",
   "metadata": {},
   "source": [
    "## Set Up\n",
    "-----"
   ]
  },
  {
   "cell_type": "code",
   "execution_count": 1,
   "metadata": {},
   "outputs": [],
   "source": [
    "# import relevant packages\n",
    "import pandas as pd\n",
    "import numpy as np\n",
    "import matplotlib.pyplot as plt\n",
    "import seaborn as sns\n",
    "import sys\n"
   ]
  },
  {
   "cell_type": "code",
   "execution_count": 2,
   "metadata": {},
   "outputs": [],
   "source": [
    "sys.path.append('../../src')\n",
    "\n",
    "from data_preprocess import Data_Preprocess"
   ]
  },
  {
   "cell_type": "markdown",
   "metadata": {},
   "source": [
    "## Utility Functions\n",
    "-----"
   ]
  },
  {
   "cell_type": "code",
   "execution_count": 3,
   "metadata": {},
   "outputs": [],
   "source": [
    "def df_check(df):\n",
    "    '''\n",
    "    Outputs quality measures for dataframes\n",
    "\n",
    "    Paramters\n",
    "    ---------\n",
    "    df: DataFrame for quality check\n",
    "\n",
    "    Returns\n",
    "    -------\n",
    "    Statements with data quality info such as shape, duplicated values, missing values\n",
    "    '''\n",
    "    \n",
    "    shape = df.shape\n",
    "    # Calling sum twice - first sum returns column level results second sum to retrun total null values in all columns\n",
    "    null_vals = df.isna().sum().sum()\n",
    "    duplicated_rows = df.duplicated().sum()\n",
    "    duplicated_cols = df.columns.duplicated().sum()\n",
    "\n",
    "    print (\n",
    "    f\"\"\"\n",
    "    Data Quality Checks:\n",
    "    --------------------------------------------\n",
    "    No. of rows: {shape[0]}\n",
    "    No. of columns: {shape[1]}\n",
    "    No. of missing values: {null_vals}\n",
    "    No. of duplicated rows: {duplicated_rows}\n",
    "    No. of duplicated columns: {duplicated_cols}\n",
    "    \"\"\"\n",
    ")\n",
    "    \n"
   ]
  },
  {
   "cell_type": "markdown",
   "metadata": {},
   "source": [
    "## Data Visualisation\n",
    "----"
   ]
  },
  {
   "cell_type": "code",
   "execution_count": 4,
   "metadata": {},
   "outputs": [],
   "source": [
    "car_df = pd.read_csv('../../data/CarPrice_Assignment.csv')"
   ]
  },
  {
   "cell_type": "code",
   "execution_count": 5,
   "metadata": {},
   "outputs": [],
   "source": [
    "num_cols = car_df.select_dtypes( exclude='object').columns\n",
    "cat_cols = car_df.select_dtypes(include='object').columns"
   ]
  },
  {
   "cell_type": "code",
   "execution_count": 6,
   "metadata": {},
   "outputs": [
    {
     "data": {
      "text/html": [
       "<div>\n",
       "<style scoped>\n",
       "    .dataframe tbody tr th:only-of-type {\n",
       "        vertical-align: middle;\n",
       "    }\n",
       "\n",
       "    .dataframe tbody tr th {\n",
       "        vertical-align: top;\n",
       "    }\n",
       "\n",
       "    .dataframe thead th {\n",
       "        text-align: right;\n",
       "    }\n",
       "</style>\n",
       "<table border=\"1\" class=\"dataframe\">\n",
       "  <thead>\n",
       "    <tr style=\"text-align: right;\">\n",
       "      <th></th>\n",
       "      <th>car_ID</th>\n",
       "      <th>symboling</th>\n",
       "      <th>CarName</th>\n",
       "      <th>fueltype</th>\n",
       "      <th>aspiration</th>\n",
       "      <th>doornumber</th>\n",
       "      <th>carbody</th>\n",
       "      <th>drivewheel</th>\n",
       "      <th>enginelocation</th>\n",
       "      <th>wheelbase</th>\n",
       "      <th>...</th>\n",
       "      <th>enginesize</th>\n",
       "      <th>fuelsystem</th>\n",
       "      <th>boreratio</th>\n",
       "      <th>stroke</th>\n",
       "      <th>compressionratio</th>\n",
       "      <th>horsepower</th>\n",
       "      <th>peakrpm</th>\n",
       "      <th>citympg</th>\n",
       "      <th>highwaympg</th>\n",
       "      <th>price</th>\n",
       "    </tr>\n",
       "  </thead>\n",
       "  <tbody>\n",
       "    <tr>\n",
       "      <th>0</th>\n",
       "      <td>1</td>\n",
       "      <td>3</td>\n",
       "      <td>alfa-romero giulia</td>\n",
       "      <td>gas</td>\n",
       "      <td>std</td>\n",
       "      <td>two</td>\n",
       "      <td>convertible</td>\n",
       "      <td>rwd</td>\n",
       "      <td>front</td>\n",
       "      <td>88.6</td>\n",
       "      <td>...</td>\n",
       "      <td>130</td>\n",
       "      <td>mpfi</td>\n",
       "      <td>3.47</td>\n",
       "      <td>2.68</td>\n",
       "      <td>9.0</td>\n",
       "      <td>111</td>\n",
       "      <td>5000</td>\n",
       "      <td>21</td>\n",
       "      <td>27</td>\n",
       "      <td>13495.000</td>\n",
       "    </tr>\n",
       "    <tr>\n",
       "      <th>1</th>\n",
       "      <td>2</td>\n",
       "      <td>3</td>\n",
       "      <td>alfa-romero stelvio</td>\n",
       "      <td>gas</td>\n",
       "      <td>std</td>\n",
       "      <td>two</td>\n",
       "      <td>convertible</td>\n",
       "      <td>rwd</td>\n",
       "      <td>front</td>\n",
       "      <td>88.6</td>\n",
       "      <td>...</td>\n",
       "      <td>130</td>\n",
       "      <td>mpfi</td>\n",
       "      <td>3.47</td>\n",
       "      <td>2.68</td>\n",
       "      <td>9.0</td>\n",
       "      <td>111</td>\n",
       "      <td>5000</td>\n",
       "      <td>21</td>\n",
       "      <td>27</td>\n",
       "      <td>16500.000</td>\n",
       "    </tr>\n",
       "    <tr>\n",
       "      <th>2</th>\n",
       "      <td>3</td>\n",
       "      <td>1</td>\n",
       "      <td>alfa-romero Quadrifoglio</td>\n",
       "      <td>gas</td>\n",
       "      <td>std</td>\n",
       "      <td>two</td>\n",
       "      <td>hatchback</td>\n",
       "      <td>rwd</td>\n",
       "      <td>front</td>\n",
       "      <td>94.5</td>\n",
       "      <td>...</td>\n",
       "      <td>152</td>\n",
       "      <td>mpfi</td>\n",
       "      <td>2.68</td>\n",
       "      <td>3.47</td>\n",
       "      <td>9.0</td>\n",
       "      <td>154</td>\n",
       "      <td>5000</td>\n",
       "      <td>19</td>\n",
       "      <td>26</td>\n",
       "      <td>16500.000</td>\n",
       "    </tr>\n",
       "    <tr>\n",
       "      <th>3</th>\n",
       "      <td>4</td>\n",
       "      <td>2</td>\n",
       "      <td>audi 100 ls</td>\n",
       "      <td>gas</td>\n",
       "      <td>std</td>\n",
       "      <td>four</td>\n",
       "      <td>sedan</td>\n",
       "      <td>fwd</td>\n",
       "      <td>front</td>\n",
       "      <td>99.8</td>\n",
       "      <td>...</td>\n",
       "      <td>109</td>\n",
       "      <td>mpfi</td>\n",
       "      <td>3.19</td>\n",
       "      <td>3.40</td>\n",
       "      <td>10.0</td>\n",
       "      <td>102</td>\n",
       "      <td>5500</td>\n",
       "      <td>24</td>\n",
       "      <td>30</td>\n",
       "      <td>13950.000</td>\n",
       "    </tr>\n",
       "    <tr>\n",
       "      <th>4</th>\n",
       "      <td>5</td>\n",
       "      <td>2</td>\n",
       "      <td>audi 100ls</td>\n",
       "      <td>gas</td>\n",
       "      <td>std</td>\n",
       "      <td>four</td>\n",
       "      <td>sedan</td>\n",
       "      <td>4wd</td>\n",
       "      <td>front</td>\n",
       "      <td>99.4</td>\n",
       "      <td>...</td>\n",
       "      <td>136</td>\n",
       "      <td>mpfi</td>\n",
       "      <td>3.19</td>\n",
       "      <td>3.40</td>\n",
       "      <td>8.0</td>\n",
       "      <td>115</td>\n",
       "      <td>5500</td>\n",
       "      <td>18</td>\n",
       "      <td>22</td>\n",
       "      <td>17450.000</td>\n",
       "    </tr>\n",
       "    <tr>\n",
       "      <th>5</th>\n",
       "      <td>6</td>\n",
       "      <td>2</td>\n",
       "      <td>audi fox</td>\n",
       "      <td>gas</td>\n",
       "      <td>std</td>\n",
       "      <td>two</td>\n",
       "      <td>sedan</td>\n",
       "      <td>fwd</td>\n",
       "      <td>front</td>\n",
       "      <td>99.8</td>\n",
       "      <td>...</td>\n",
       "      <td>136</td>\n",
       "      <td>mpfi</td>\n",
       "      <td>3.19</td>\n",
       "      <td>3.40</td>\n",
       "      <td>8.5</td>\n",
       "      <td>110</td>\n",
       "      <td>5500</td>\n",
       "      <td>19</td>\n",
       "      <td>25</td>\n",
       "      <td>15250.000</td>\n",
       "    </tr>\n",
       "    <tr>\n",
       "      <th>6</th>\n",
       "      <td>7</td>\n",
       "      <td>1</td>\n",
       "      <td>audi 100ls</td>\n",
       "      <td>gas</td>\n",
       "      <td>std</td>\n",
       "      <td>four</td>\n",
       "      <td>sedan</td>\n",
       "      <td>fwd</td>\n",
       "      <td>front</td>\n",
       "      <td>105.8</td>\n",
       "      <td>...</td>\n",
       "      <td>136</td>\n",
       "      <td>mpfi</td>\n",
       "      <td>3.19</td>\n",
       "      <td>3.40</td>\n",
       "      <td>8.5</td>\n",
       "      <td>110</td>\n",
       "      <td>5500</td>\n",
       "      <td>19</td>\n",
       "      <td>25</td>\n",
       "      <td>17710.000</td>\n",
       "    </tr>\n",
       "    <tr>\n",
       "      <th>7</th>\n",
       "      <td>8</td>\n",
       "      <td>1</td>\n",
       "      <td>audi 5000</td>\n",
       "      <td>gas</td>\n",
       "      <td>std</td>\n",
       "      <td>four</td>\n",
       "      <td>wagon</td>\n",
       "      <td>fwd</td>\n",
       "      <td>front</td>\n",
       "      <td>105.8</td>\n",
       "      <td>...</td>\n",
       "      <td>136</td>\n",
       "      <td>mpfi</td>\n",
       "      <td>3.19</td>\n",
       "      <td>3.40</td>\n",
       "      <td>8.5</td>\n",
       "      <td>110</td>\n",
       "      <td>5500</td>\n",
       "      <td>19</td>\n",
       "      <td>25</td>\n",
       "      <td>18920.000</td>\n",
       "    </tr>\n",
       "    <tr>\n",
       "      <th>8</th>\n",
       "      <td>9</td>\n",
       "      <td>1</td>\n",
       "      <td>audi 4000</td>\n",
       "      <td>gas</td>\n",
       "      <td>turbo</td>\n",
       "      <td>four</td>\n",
       "      <td>sedan</td>\n",
       "      <td>fwd</td>\n",
       "      <td>front</td>\n",
       "      <td>105.8</td>\n",
       "      <td>...</td>\n",
       "      <td>131</td>\n",
       "      <td>mpfi</td>\n",
       "      <td>3.13</td>\n",
       "      <td>3.40</td>\n",
       "      <td>8.3</td>\n",
       "      <td>140</td>\n",
       "      <td>5500</td>\n",
       "      <td>17</td>\n",
       "      <td>20</td>\n",
       "      <td>23875.000</td>\n",
       "    </tr>\n",
       "    <tr>\n",
       "      <th>9</th>\n",
       "      <td>10</td>\n",
       "      <td>0</td>\n",
       "      <td>audi 5000s (diesel)</td>\n",
       "      <td>gas</td>\n",
       "      <td>turbo</td>\n",
       "      <td>two</td>\n",
       "      <td>hatchback</td>\n",
       "      <td>4wd</td>\n",
       "      <td>front</td>\n",
       "      <td>99.5</td>\n",
       "      <td>...</td>\n",
       "      <td>131</td>\n",
       "      <td>mpfi</td>\n",
       "      <td>3.13</td>\n",
       "      <td>3.40</td>\n",
       "      <td>7.0</td>\n",
       "      <td>160</td>\n",
       "      <td>5500</td>\n",
       "      <td>16</td>\n",
       "      <td>22</td>\n",
       "      <td>17859.167</td>\n",
       "    </tr>\n",
       "  </tbody>\n",
       "</table>\n",
       "<p>10 rows × 26 columns</p>\n",
       "</div>"
      ],
      "text/plain": [
       "   car_ID  symboling                   CarName fueltype aspiration doornumber  \\\n",
       "0       1          3        alfa-romero giulia      gas        std        two   \n",
       "1       2          3       alfa-romero stelvio      gas        std        two   \n",
       "2       3          1  alfa-romero Quadrifoglio      gas        std        two   \n",
       "3       4          2               audi 100 ls      gas        std       four   \n",
       "4       5          2                audi 100ls      gas        std       four   \n",
       "5       6          2                  audi fox      gas        std        two   \n",
       "6       7          1                audi 100ls      gas        std       four   \n",
       "7       8          1                 audi 5000      gas        std       four   \n",
       "8       9          1                 audi 4000      gas      turbo       four   \n",
       "9      10          0       audi 5000s (diesel)      gas      turbo        two   \n",
       "\n",
       "       carbody drivewheel enginelocation  wheelbase  ...  enginesize  \\\n",
       "0  convertible        rwd          front       88.6  ...         130   \n",
       "1  convertible        rwd          front       88.6  ...         130   \n",
       "2    hatchback        rwd          front       94.5  ...         152   \n",
       "3        sedan        fwd          front       99.8  ...         109   \n",
       "4        sedan        4wd          front       99.4  ...         136   \n",
       "5        sedan        fwd          front       99.8  ...         136   \n",
       "6        sedan        fwd          front      105.8  ...         136   \n",
       "7        wagon        fwd          front      105.8  ...         136   \n",
       "8        sedan        fwd          front      105.8  ...         131   \n",
       "9    hatchback        4wd          front       99.5  ...         131   \n",
       "\n",
       "   fuelsystem  boreratio  stroke compressionratio horsepower  peakrpm citympg  \\\n",
       "0        mpfi       3.47    2.68              9.0        111     5000      21   \n",
       "1        mpfi       3.47    2.68              9.0        111     5000      21   \n",
       "2        mpfi       2.68    3.47              9.0        154     5000      19   \n",
       "3        mpfi       3.19    3.40             10.0        102     5500      24   \n",
       "4        mpfi       3.19    3.40              8.0        115     5500      18   \n",
       "5        mpfi       3.19    3.40              8.5        110     5500      19   \n",
       "6        mpfi       3.19    3.40              8.5        110     5500      19   \n",
       "7        mpfi       3.19    3.40              8.5        110     5500      19   \n",
       "8        mpfi       3.13    3.40              8.3        140     5500      17   \n",
       "9        mpfi       3.13    3.40              7.0        160     5500      16   \n",
       "\n",
       "   highwaympg      price  \n",
       "0          27  13495.000  \n",
       "1          27  16500.000  \n",
       "2          26  16500.000  \n",
       "3          30  13950.000  \n",
       "4          22  17450.000  \n",
       "5          25  15250.000  \n",
       "6          25  17710.000  \n",
       "7          25  18920.000  \n",
       "8          20  23875.000  \n",
       "9          22  17859.167  \n",
       "\n",
       "[10 rows x 26 columns]"
      ]
     },
     "execution_count": 6,
     "metadata": {},
     "output_type": "execute_result"
    }
   ],
   "source": [
    "car_df.head(10)"
   ]
  },
  {
   "cell_type": "markdown",
   "metadata": {},
   "source": [
    "### Numerical Columns"
   ]
  },
  {
   "cell_type": "code",
   "execution_count": 7,
   "metadata": {},
   "outputs": [
    {
     "data": {
      "text/plain": [
       "np.float64(103.0)"
      ]
     },
     "execution_count": 7,
     "metadata": {},
     "output_type": "execute_result"
    }
   ],
   "source": [
    "car_df['car_ID'].median()"
   ]
  },
  {
   "cell_type": "code",
   "execution_count": 8,
   "metadata": {},
   "outputs": [
    {
     "data": {
      "text/plain": [
       "stroke\n",
       "3.400    20\n",
       "3.230    14\n",
       "3.150    14\n",
       "3.030    14\n",
       "3.390    13\n",
       "2.640    11\n",
       "3.290     9\n",
       "3.350     9\n",
       "3.460     8\n",
       "3.110     6\n",
       "3.270     6\n",
       "3.410     6\n",
       "3.070     6\n",
       "3.580     6\n",
       "3.190     6\n",
       "3.500     6\n",
       "3.640     5\n",
       "3.520     5\n",
       "3.860     4\n",
       "3.540     4\n",
       "3.470     4\n",
       "3.255     4\n",
       "3.900     3\n",
       "2.900     3\n",
       "3.100     2\n",
       "4.170     2\n",
       "2.800     2\n",
       "2.190     2\n",
       "3.080     2\n",
       "2.680     2\n",
       "2.360     1\n",
       "3.160     1\n",
       "2.070     1\n",
       "3.210     1\n",
       "3.120     1\n",
       "2.760     1\n",
       "2.870     1\n",
       "Name: count, dtype: int64"
      ]
     },
     "execution_count": 8,
     "metadata": {},
     "output_type": "execute_result"
    }
   ],
   "source": [
    "car_df['stroke'].value_counts()"
   ]
  },
  {
   "cell_type": "code",
   "execution_count": 9,
   "metadata": {},
   "outputs": [
    {
     "data": {
      "image/png": "[encoded data removed]",
      "text/plain": [
       "<Figure size 2000x2000 with 16 Axes>"
      ]
     },
     "metadata": {},
     "output_type": "display_data"
    }
   ],
   "source": [
    "# Visualise data in numerical columns \n",
    "plt.subplots(4,4,figsize=(20,20))\n",
    "\n",
    "for i,col in enumerate(num_cols):\n",
    "    plt.subplot(4,4,i+1)\n",
    "    plt.hist(car_df[col], bins = 20,edgecolor='black',color='teal')\n",
    "    plt.axvline(car_df[col].mean(), color='darkmagenta', label= 'Mean')\n",
    "    plt.axvline(car_df[col].median(), color='red',label= 'Median')\n",
    "    plt.title(col, fontweight= 'bold')\n",
    "    plt.legend()\n",
    "\n",
    "plt.show()\n"
   ]
  },
  {
   "cell_type": "markdown",
   "metadata": {},
   "source": [
    "**Key Insights:**\n",
    "\n",
    "- **car ID** - Not required for the analysis, IDs are unique identifiers and so should not have an affect on price(the target variable).\n",
    "\n",
    "- **symboling** - Looks like a categorical variable, should use label encoding to make this variable categorical before I begin modelling.\n",
    "\n",
    "- **wheel base** - Slight positive skewness in the data as the mean is greater than the median. If you look at the histogram, the larger less frequent values seem to pull the mean upwards.\n",
    "\n",
    "- **engine size** - Looks as though it might be a log-normal distribution as the data looks skewed to the right due to a long tail to the right.\n",
    "\n",
    "- **horse power** - Looks as though it might also be a log-normal distribution as the data looks skewed to the right due to a long tail to the right.\n",
    "\n",
    "- **peak rmp** - Looks as if there are ranges here which data falls in, to investigate this to see if data can be categorised.\n",
    "\n",
    "- **compression ratio** Clear there are two main groups, assuming there compression ratio for standard cars is different to that of higher performing cars especially since compression ratio is regarding engine operation.\n",
    "\n",
    "- **highway mpg** - Looks as if there are two peaks in the highwaympg column, this suggests two clusters in the column one which is lower the other which is higher.\n",
    "\n",
    "**Target Column: PRICE**\n",
    "- Right sweked with the mean greater than the median suggesting few outliers to the right (tail) are pulling the mean up\n",
    "- The outliers in the histogram suggests there are some cars in the dataset that are significantly more expensive than the majority of cars."
   ]
  },
  {
   "cell_type": "markdown",
   "metadata": {},
   "source": [
    "### Categorical Columns"
   ]
  },
  {
   "cell_type": "code",
   "execution_count": 10,
   "metadata": {},
   "outputs": [
    {
     "name": "stdout",
     "output_type": "stream",
     "text": [
      "CarName 147\n",
      "fueltype 2\n",
      "aspiration 2\n",
      "doornumber 2\n",
      "carbody 5\n",
      "drivewheel 3\n",
      "enginelocation 2\n",
      "enginetype 7\n",
      "cylindernumber 7\n",
      "fuelsystem 8\n"
     ]
    }
   ],
   "source": [
    "for col in cat_cols:\n",
    "    print(col,len(car_df[col].value_counts().index))"
   ]
  },
  {
   "cell_type": "code",
   "execution_count": 11,
   "metadata": {},
   "outputs": [
    {
     "data": {
      "image/png": "[encoded data removed]",
      "text/plain": [
       "<Figure size 2000x2000 with 10 Axes>"
      ]
     },
     "metadata": {},
     "output_type": "display_data"
    }
   ],
   "source": [
    "# Visualise data in categorical columns \n",
    "plt.subplots(5,2,figsize=(20,20))\n",
    "\n",
    "for i,col in enumerate(cat_cols):\n",
    "    plt.subplot(5,2,i+1)\n",
    "    plt.bar(x = car_df[col].value_counts().index ,height = car_df[col].value_counts().values, color = 'teal')\n",
    "    plt.title(col, fontweight= 'bold')\n",
    "plt.tight_layout()\n",
    "plt.show()\n"
   ]
  },
  {
   "cell_type": "markdown",
   "metadata": {},
   "source": [
    "**Key Insights**\n",
    "\n",
    "- **car name** - Too many distinct values in this column, will likely be removed in analysis when checking assumption 1 (relationship to target varaible price)\n",
    "\n",
    "In the dataset, it is clear that there is an affinity towards standard cars characterised by gas fuel type, front-wheel drive (FWD), engine placement at the front, etc. \n",
    "These typical characteristics domininate the dataset as seen above and reflect a 'norm' in the car industry. Cars with these specifications are more prevelant and so \n",
    "could suggest to a higher market demand which could affect pricing.\n",
    "\n",
    "\n",
    "\n"
   ]
  },
  {
   "cell_type": "code",
   "execution_count": null,
   "metadata": {},
   "outputs": [],
   "source": []
  },
  {
   "cell_type": "markdown",
   "metadata": {},
   "source": [
    "## Log Transformation of Engine Size and Horse Power columns\n",
    "----"
   ]
  },
  {
   "cell_type": "code",
   "execution_count": 12,
   "metadata": {},
   "outputs": [],
   "source": [
    "# first to make copy of df before making any changes \n",
    "mod_car_df = car_df.copy()"
   ]
  },
  {
   "cell_type": "code",
   "execution_count": 13,
   "metadata": {},
   "outputs": [
    {
     "name": "stdout",
     "output_type": "stream",
     "text": [
      "\n",
      "    Data Quality Checks:\n",
      "    --------------------------------------------\n",
      "    No. of rows: 205\n",
      "    No. of columns: 26\n",
      "    No. of missing values: 0\n",
      "    No. of duplicated rows: 0\n",
      "    No. of duplicated columns: 0\n",
      "    \n"
     ]
    }
   ],
   "source": [
    "df_check(mod_car_df)"
   ]
  },
  {
   "cell_type": "markdown",
   "metadata": {},
   "source": [
    "### Engine Size"
   ]
  },
  {
   "cell_type": "code",
   "execution_count": 14,
   "metadata": {},
   "outputs": [],
   "source": [
    "mod_car_df['enginesize_transformed'] = np.log(mod_car_df['enginesize'])"
   ]
  },
  {
   "cell_type": "code",
   "execution_count": 15,
   "metadata": {},
   "outputs": [
    {
     "data": {
      "image/png": "[encoded data removed]",
      "text/plain": [
       "<Figure size 1500x500 with 2 Axes>"
      ]
     },
     "metadata": {},
     "output_type": "display_data"
    }
   ],
   "source": [
    "plt.subplots(1,2,figsize=(15,5))\n",
    "\n",
    "plt.subplot(1,2,1)\n",
    "plt.hist(mod_car_df['enginesize'], bins = 15,edgecolor='black',color='teal')\n",
    "plt.axvline(mod_car_df['enginesize'].mean(), color='darkmagenta', label= 'Mean')\n",
    "plt.axvline(mod_car_df['enginesize'].median(), color='red',label= 'Median')\n",
    "plt.title('Engine Size before Log Transformation', fontweight= 'bold')\n",
    "plt.legend()\n",
    "\n",
    "plt.subplot(1,2,2)\n",
    "plt.hist(mod_car_df['enginesize_transformed'], bins = 15,edgecolor='black',color='teal')\n",
    "plt.axvline(mod_car_df['enginesize_transformed'].mean(), color='darkmagenta', label= 'Mean')\n",
    "plt.axvline(mod_car_df['enginesize_transformed'].median(), color='red',label= 'Median')\n",
    "plt.title('Engine Size after Log Transformation', fontweight= 'bold')\n",
    "\n",
    "plt.legend()\n",
    "plt.show()"
   ]
  },
  {
   "cell_type": "markdown",
   "metadata": {},
   "source": [
    "**Comment**\n",
    "\n",
    "By applying log transformation on enginesize the data appears to be more normally distributed with little difference between the mean and median."
   ]
  },
  {
   "cell_type": "markdown",
   "metadata": {},
   "source": [
    "### Horse Power"
   ]
  },
  {
   "cell_type": "code",
   "execution_count": 16,
   "metadata": {},
   "outputs": [],
   "source": [
    "mod_car_df['horsepower_transformed'] = np.log(mod_car_df['horsepower'])"
   ]
  },
  {
   "cell_type": "code",
   "execution_count": 17,
   "metadata": {},
   "outputs": [
    {
     "data": {
      "image/png": "[encoded data removed]",
      "text/plain": [
       "<Figure size 1500x500 with 2 Axes>"
      ]
     },
     "metadata": {},
     "output_type": "display_data"
    }
   ],
   "source": [
    "plt.subplots(1,2,figsize=(15,5))\n",
    "\n",
    "plt.subplot(1,2,1)\n",
    "plt.hist(mod_car_df['horsepower'], bins = 15,edgecolor='black',color='teal')\n",
    "plt.axvline(mod_car_df['horsepower'].mean(), color='darkmagenta', label= 'Mean')\n",
    "plt.axvline(mod_car_df['horsepower'].median(), color='red',label= 'Median')\n",
    "plt.title('Horse Power before Log Transformation', fontweight= 'bold')\n",
    "plt.legend()\n",
    "\n",
    "plt.subplot(1,2,2)\n",
    "plt.hist(mod_car_df['horsepower_transformed'], bins = 15,edgecolor='black',color='teal')\n",
    "plt.axvline(mod_car_df['horsepower_transformed'].mean(), color='darkmagenta', label= 'Mean')\n",
    "plt.axvline(mod_car_df['horsepower_transformed'].median(), color='red',label= 'Median')\n",
    "plt.title('Horse Power after Log Transformation', fontweight= 'bold')\n",
    "plt.legend()\n",
    "\n",
    "plt.show()"
   ]
  },
  {
   "cell_type": "markdown",
   "metadata": {},
   "source": [
    "**Comment**\n",
    "\n",
    "Again, we see thee effect of log transformation on horse power. The scale is now compressed and the range of values is reduced with a smaller difference between the mean and median. \n",
    "\n",
    "The shape of the distribution is also appearing to be more normal."
   ]
  },
  {
   "cell_type": "code",
   "execution_count": 18,
   "metadata": {},
   "outputs": [],
   "source": [
    "# Dropping both un-transformed columns as no longer required\n",
    "mod_car_df.drop(columns=['enginesize','horsepower'], inplace=True)"
   ]
  },
  {
   "cell_type": "code",
   "execution_count": 19,
   "metadata": {},
   "outputs": [
    {
     "name": "stdout",
     "output_type": "stream",
     "text": [
      "\n",
      "    Data Quality Checks:\n",
      "    --------------------------------------------\n",
      "    No. of rows: 205\n",
      "    No. of columns: 26\n",
      "    No. of missing values: 0\n",
      "    No. of duplicated rows: 0\n",
      "    No. of duplicated columns: 0\n",
      "    \n"
     ]
    }
   ],
   "source": [
    "df_check(mod_car_df)"
   ]
  },
  {
   "cell_type": "markdown",
   "metadata": {},
   "source": [
    "## Dropping unnecessary columns\n",
    "----"
   ]
  },
  {
   "cell_type": "code",
   "execution_count": 20,
   "metadata": {},
   "outputs": [],
   "source": [
    "mod_car_df = mod_car_df.drop(columns= ['car_ID', 'CarName'])"
   ]
  },
  {
   "cell_type": "code",
   "execution_count": 21,
   "metadata": {},
   "outputs": [
    {
     "name": "stdout",
     "output_type": "stream",
     "text": [
      "\n",
      "    Data Quality Checks:\n",
      "    --------------------------------------------\n",
      "    No. of rows: 205\n",
      "    No. of columns: 24\n",
      "    No. of missing values: 0\n",
      "    No. of duplicated rows: 1\n",
      "    No. of duplicated columns: 0\n",
      "    \n"
     ]
    }
   ],
   "source": [
    "df_check(mod_car_df) ## see duplication on deleting the car_id and car name"
   ]
  },
  {
   "cell_type": "code",
   "execution_count": 22,
   "metadata": {},
   "outputs": [
    {
     "data": {
      "text/plain": [
       "Index(['symboling', 'fueltype', 'aspiration', 'doornumber', 'carbody',\n",
       "       'drivewheel', 'enginelocation', 'wheelbase', 'carlength', 'carwidth',\n",
       "       'carheight', 'curbweight', 'enginetype', 'cylindernumber', 'fuelsystem',\n",
       "       'boreratio', 'stroke', 'compressionratio', 'peakrpm', 'citympg',\n",
       "       'highwaympg', 'price', 'enginesize_transformed',\n",
       "       'horsepower_transformed'],\n",
       "      dtype='object')"
      ]
     },
     "execution_count": 22,
     "metadata": {},
     "output_type": "execute_result"
    }
   ],
   "source": [
    "mod_car_df.columns"
   ]
  },
  {
   "cell_type": "markdown",
   "metadata": {},
   "source": [
    "## Symboling\n",
    "-----"
   ]
  },
  {
   "cell_type": "markdown",
   "metadata": {},
   "source": [
    "Symboling represents a car's insurance risk level, this risk level corresponds to the car price.\n",
    "\n",
    "Based on the distribution of values seen in the data I am making the as assumption that +3 means the risk is low and -3 means the risk is high with 0 being a standard level of risk.\n",
    "\n",
    "I am unsure whether my intrepretatation of symboling is correct so for this reason I will just cast the values to be a string and will come back to this at a later point. Perhaps futehr on the analysis it would be clear if -3 is high or low risk."
   ]
  },
  {
   "cell_type": "code",
   "execution_count": 23,
   "metadata": {},
   "outputs": [],
   "source": [
    "mod_car_df['symboling'] = mod_car_df['symboling'].astype('str')"
   ]
  },
  {
   "cell_type": "markdown",
   "metadata": {},
   "source": [
    "## WHERE TO PUT THIS?\n",
    "\n",
    "\n",
    "Symboling represents a car's insurance risk level, this risk level corresponds to the car price.\n",
    "\n",
    "Based on the distribution of values seen in the data I am making the as assumption that +3 means the risk is low and -3 means the risk is high with 0 being a standard level of risk.\n",
    "\n",
    "I am unsure whether my intrepretatation of symboling is correct so for this reason I will just cast the values to be a string and will come back to this at a later point. Perhaps futehr on the analysis it would be clear if -3 is high or low risk."
   ]
  },
  {
   "cell_type": "markdown",
   "metadata": {},
   "source": [
    "## Scaling of Numerical Variables\n",
    "----"
   ]
  },
  {
   "cell_type": "code",
   "execution_count": 24,
   "metadata": {},
   "outputs": [],
   "source": [
    "# redefine new num_cols cat_cols for modified df\n",
    "num_cols = mod_car_df.select_dtypes(exclude='object').columns\n",
    "cat_cols = mod_car_df.select_dtypes(include='object').columns"
   ]
  },
  {
   "cell_type": "code",
   "execution_count": 25,
   "metadata": {},
   "outputs": [],
   "source": [
    "my_data_prcocessor = Data_Preprocess(mod_car_df)"
   ]
  },
  {
   "cell_type": "code",
   "execution_count": 26,
   "metadata": {},
   "outputs": [],
   "source": [
    "scaled_df  = my_data_prcocessor.std_scaling()"
   ]
  },
  {
   "cell_type": "markdown",
   "metadata": {},
   "source": [
    "## Encoding of Categorical Variables\n",
    "-----"
   ]
  },
  {
   "cell_type": "code",
   "execution_count": 27,
   "metadata": {},
   "outputs": [],
   "source": [
    "my_data_prcocessor = Data_Preprocess(scaled_df)"
   ]
  },
  {
   "cell_type": "code",
   "execution_count": 28,
   "metadata": {},
   "outputs": [],
   "source": [
    "encoded_df  = my_data_prcocessor.get_dummies(threshold= 8, drop_first=False)"
   ]
  },
  {
   "cell_type": "code",
   "execution_count": 29,
   "metadata": {},
   "outputs": [
    {
     "data": {
      "text/html": [
       "<div>\n",
       "<style scoped>\n",
       "    .dataframe tbody tr th:only-of-type {\n",
       "        vertical-align: middle;\n",
       "    }\n",
       "\n",
       "    .dataframe tbody tr th {\n",
       "        vertical-align: top;\n",
       "    }\n",
       "\n",
       "    .dataframe thead th {\n",
       "        text-align: right;\n",
       "    }\n",
       "</style>\n",
       "<table border=\"1\" class=\"dataframe\">\n",
       "  <thead>\n",
       "    <tr style=\"text-align: right;\">\n",
       "      <th></th>\n",
       "      <th>wheelbase</th>\n",
       "      <th>carlength</th>\n",
       "      <th>carwidth</th>\n",
       "      <th>carheight</th>\n",
       "      <th>curbweight</th>\n",
       "      <th>boreratio</th>\n",
       "      <th>stroke</th>\n",
       "      <th>compressionratio</th>\n",
       "      <th>peakrpm</th>\n",
       "      <th>citympg</th>\n",
       "      <th>...</th>\n",
       "      <th>cylindernumber_twelve</th>\n",
       "      <th>cylindernumber_two</th>\n",
       "      <th>fuelsystem_1bbl</th>\n",
       "      <th>fuelsystem_2bbl</th>\n",
       "      <th>fuelsystem_4bbl</th>\n",
       "      <th>fuelsystem_idi</th>\n",
       "      <th>fuelsystem_mfi</th>\n",
       "      <th>fuelsystem_mpfi</th>\n",
       "      <th>fuelsystem_spdi</th>\n",
       "      <th>fuelsystem_spfi</th>\n",
       "    </tr>\n",
       "  </thead>\n",
       "  <tbody>\n",
       "    <tr>\n",
       "      <th>0</th>\n",
       "      <td>-1.690772</td>\n",
       "      <td>-0.426521</td>\n",
       "      <td>-0.844782</td>\n",
       "      <td>-2.020417</td>\n",
       "      <td>-0.014566</td>\n",
       "      <td>0.519071</td>\n",
       "      <td>-1.839377</td>\n",
       "      <td>-0.288349</td>\n",
       "      <td>-0.262960</td>\n",
       "      <td>-0.646553</td>\n",
       "      <td>...</td>\n",
       "      <td>0</td>\n",
       "      <td>0</td>\n",
       "      <td>0</td>\n",
       "      <td>0</td>\n",
       "      <td>0</td>\n",
       "      <td>0</td>\n",
       "      <td>0</td>\n",
       "      <td>1</td>\n",
       "      <td>0</td>\n",
       "      <td>0</td>\n",
       "    </tr>\n",
       "    <tr>\n",
       "      <th>1</th>\n",
       "      <td>-1.690772</td>\n",
       "      <td>-0.426521</td>\n",
       "      <td>-0.844782</td>\n",
       "      <td>-2.020417</td>\n",
       "      <td>-0.014566</td>\n",
       "      <td>0.519071</td>\n",
       "      <td>-1.839377</td>\n",
       "      <td>-0.288349</td>\n",
       "      <td>-0.262960</td>\n",
       "      <td>-0.646553</td>\n",
       "      <td>...</td>\n",
       "      <td>0</td>\n",
       "      <td>0</td>\n",
       "      <td>0</td>\n",
       "      <td>0</td>\n",
       "      <td>0</td>\n",
       "      <td>0</td>\n",
       "      <td>0</td>\n",
       "      <td>1</td>\n",
       "      <td>0</td>\n",
       "      <td>0</td>\n",
       "    </tr>\n",
       "    <tr>\n",
       "      <th>2</th>\n",
       "      <td>-0.708596</td>\n",
       "      <td>-0.231513</td>\n",
       "      <td>-0.190566</td>\n",
       "      <td>-0.543527</td>\n",
       "      <td>0.514882</td>\n",
       "      <td>-2.404880</td>\n",
       "      <td>0.685946</td>\n",
       "      <td>-0.288349</td>\n",
       "      <td>-0.262960</td>\n",
       "      <td>-0.953012</td>\n",
       "      <td>...</td>\n",
       "      <td>0</td>\n",
       "      <td>0</td>\n",
       "      <td>0</td>\n",
       "      <td>0</td>\n",
       "      <td>0</td>\n",
       "      <td>0</td>\n",
       "      <td>0</td>\n",
       "      <td>1</td>\n",
       "      <td>0</td>\n",
       "      <td>0</td>\n",
       "    </tr>\n",
       "    <tr>\n",
       "      <th>3</th>\n",
       "      <td>0.173698</td>\n",
       "      <td>0.207256</td>\n",
       "      <td>0.136542</td>\n",
       "      <td>0.235942</td>\n",
       "      <td>-0.420797</td>\n",
       "      <td>-0.517266</td>\n",
       "      <td>0.462183</td>\n",
       "      <td>-0.035973</td>\n",
       "      <td>0.787855</td>\n",
       "      <td>-0.186865</td>\n",
       "      <td>...</td>\n",
       "      <td>0</td>\n",
       "      <td>0</td>\n",
       "      <td>0</td>\n",
       "      <td>0</td>\n",
       "      <td>0</td>\n",
       "      <td>0</td>\n",
       "      <td>0</td>\n",
       "      <td>1</td>\n",
       "      <td>0</td>\n",
       "      <td>0</td>\n",
       "    </tr>\n",
       "    <tr>\n",
       "      <th>4</th>\n",
       "      <td>0.107110</td>\n",
       "      <td>0.207256</td>\n",
       "      <td>0.230001</td>\n",
       "      <td>0.235942</td>\n",
       "      <td>0.516807</td>\n",
       "      <td>-0.517266</td>\n",
       "      <td>0.462183</td>\n",
       "      <td>-0.540725</td>\n",
       "      <td>0.787855</td>\n",
       "      <td>-1.106241</td>\n",
       "      <td>...</td>\n",
       "      <td>0</td>\n",
       "      <td>0</td>\n",
       "      <td>0</td>\n",
       "      <td>0</td>\n",
       "      <td>0</td>\n",
       "      <td>0</td>\n",
       "      <td>0</td>\n",
       "      <td>1</td>\n",
       "      <td>0</td>\n",
       "      <td>0</td>\n",
       "    </tr>\n",
       "    <tr>\n",
       "      <th>...</th>\n",
       "      <td>...</td>\n",
       "      <td>...</td>\n",
       "      <td>...</td>\n",
       "      <td>...</td>\n",
       "      <td>...</td>\n",
       "      <td>...</td>\n",
       "      <td>...</td>\n",
       "      <td>...</td>\n",
       "      <td>...</td>\n",
       "      <td>...</td>\n",
       "      <td>...</td>\n",
       "      <td>...</td>\n",
       "      <td>...</td>\n",
       "      <td>...</td>\n",
       "      <td>...</td>\n",
       "      <td>...</td>\n",
       "      <td>...</td>\n",
       "      <td>...</td>\n",
       "      <td>...</td>\n",
       "      <td>...</td>\n",
       "      <td>...</td>\n",
       "    </tr>\n",
       "    <tr>\n",
       "      <th>200</th>\n",
       "      <td>1.721873</td>\n",
       "      <td>1.198549</td>\n",
       "      <td>1.398245</td>\n",
       "      <td>0.728239</td>\n",
       "      <td>0.763241</td>\n",
       "      <td>1.666445</td>\n",
       "      <td>-0.336970</td>\n",
       "      <td>-0.162161</td>\n",
       "      <td>0.577692</td>\n",
       "      <td>-0.340094</td>\n",
       "      <td>...</td>\n",
       "      <td>0</td>\n",
       "      <td>0</td>\n",
       "      <td>0</td>\n",
       "      <td>0</td>\n",
       "      <td>0</td>\n",
       "      <td>0</td>\n",
       "      <td>0</td>\n",
       "      <td>1</td>\n",
       "      <td>0</td>\n",
       "      <td>0</td>\n",
       "    </tr>\n",
       "    <tr>\n",
       "      <th>201</th>\n",
       "      <td>1.721873</td>\n",
       "      <td>1.198549</td>\n",
       "      <td>1.351515</td>\n",
       "      <td>0.728239</td>\n",
       "      <td>0.949992</td>\n",
       "      <td>1.666445</td>\n",
       "      <td>-0.336970</td>\n",
       "      <td>-0.364062</td>\n",
       "      <td>0.367529</td>\n",
       "      <td>-0.953012</td>\n",
       "      <td>...</td>\n",
       "      <td>0</td>\n",
       "      <td>0</td>\n",
       "      <td>0</td>\n",
       "      <td>0</td>\n",
       "      <td>0</td>\n",
       "      <td>0</td>\n",
       "      <td>0</td>\n",
       "      <td>1</td>\n",
       "      <td>0</td>\n",
       "      <td>0</td>\n",
       "    </tr>\n",
       "    <tr>\n",
       "      <th>202</th>\n",
       "      <td>1.721873</td>\n",
       "      <td>1.198549</td>\n",
       "      <td>1.398245</td>\n",
       "      <td>0.728239</td>\n",
       "      <td>0.878757</td>\n",
       "      <td>0.926204</td>\n",
       "      <td>-1.232021</td>\n",
       "      <td>-0.338824</td>\n",
       "      <td>0.787855</td>\n",
       "      <td>-1.106241</td>\n",
       "      <td>...</td>\n",
       "      <td>0</td>\n",
       "      <td>0</td>\n",
       "      <td>0</td>\n",
       "      <td>0</td>\n",
       "      <td>0</td>\n",
       "      <td>0</td>\n",
       "      <td>0</td>\n",
       "      <td>1</td>\n",
       "      <td>0</td>\n",
       "      <td>0</td>\n",
       "    </tr>\n",
       "    <tr>\n",
       "      <th>203</th>\n",
       "      <td>1.721873</td>\n",
       "      <td>1.198549</td>\n",
       "      <td>1.398245</td>\n",
       "      <td>0.728239</td>\n",
       "      <td>1.273437</td>\n",
       "      <td>-1.183483</td>\n",
       "      <td>0.462183</td>\n",
       "      <td>3.244916</td>\n",
       "      <td>-0.683286</td>\n",
       "      <td>0.119594</td>\n",
       "      <td>...</td>\n",
       "      <td>0</td>\n",
       "      <td>0</td>\n",
       "      <td>0</td>\n",
       "      <td>0</td>\n",
       "      <td>0</td>\n",
       "      <td>1</td>\n",
       "      <td>0</td>\n",
       "      <td>0</td>\n",
       "      <td>0</td>\n",
       "      <td>0</td>\n",
       "    </tr>\n",
       "    <tr>\n",
       "      <th>204</th>\n",
       "      <td>1.721873</td>\n",
       "      <td>1.198549</td>\n",
       "      <td>1.398245</td>\n",
       "      <td>0.728239</td>\n",
       "      <td>0.975021</td>\n",
       "      <td>1.666445</td>\n",
       "      <td>-0.336970</td>\n",
       "      <td>-0.162161</td>\n",
       "      <td>0.577692</td>\n",
       "      <td>-0.953012</td>\n",
       "      <td>...</td>\n",
       "      <td>0</td>\n",
       "      <td>0</td>\n",
       "      <td>0</td>\n",
       "      <td>0</td>\n",
       "      <td>0</td>\n",
       "      <td>0</td>\n",
       "      <td>0</td>\n",
       "      <td>1</td>\n",
       "      <td>0</td>\n",
       "      <td>0</td>\n",
       "    </tr>\n",
       "  </tbody>\n",
       "</table>\n",
       "<p>205 rows × 58 columns</p>\n",
       "</div>"
      ],
      "text/plain": [
       "     wheelbase  carlength  carwidth  carheight  curbweight  boreratio  \\\n",
       "0    -1.690772  -0.426521 -0.844782  -2.020417   -0.014566   0.519071   \n",
       "1    -1.690772  -0.426521 -0.844782  -2.020417   -0.014566   0.519071   \n",
       "2    -0.708596  -0.231513 -0.190566  -0.543527    0.514882  -2.404880   \n",
       "3     0.173698   0.207256  0.136542   0.235942   -0.420797  -0.517266   \n",
       "4     0.107110   0.207256  0.230001   0.235942    0.516807  -0.517266   \n",
       "..         ...        ...       ...        ...         ...        ...   \n",
       "200   1.721873   1.198549  1.398245   0.728239    0.763241   1.666445   \n",
       "201   1.721873   1.198549  1.351515   0.728239    0.949992   1.666445   \n",
       "202   1.721873   1.198549  1.398245   0.728239    0.878757   0.926204   \n",
       "203   1.721873   1.198549  1.398245   0.728239    1.273437  -1.183483   \n",
       "204   1.721873   1.198549  1.398245   0.728239    0.975021   1.666445   \n",
       "\n",
       "       stroke  compressionratio   peakrpm   citympg  ...  \\\n",
       "0   -1.839377         -0.288349 -0.262960 -0.646553  ...   \n",
       "1   -1.839377         -0.288349 -0.262960 -0.646553  ...   \n",
       "2    0.685946         -0.288349 -0.262960 -0.953012  ...   \n",
       "3    0.462183         -0.035973  0.787855 -0.186865  ...   \n",
       "4    0.462183         -0.540725  0.787855 -1.106241  ...   \n",
       "..        ...               ...       ...       ...  ...   \n",
       "200 -0.336970         -0.162161  0.577692 -0.340094  ...   \n",
       "201 -0.336970         -0.364062  0.367529 -0.953012  ...   \n",
       "202 -1.232021         -0.338824  0.787855 -1.106241  ...   \n",
       "203  0.462183          3.244916 -0.683286  0.119594  ...   \n",
       "204 -0.336970         -0.162161  0.577692 -0.953012  ...   \n",
       "\n",
       "     cylindernumber_twelve  cylindernumber_two  fuelsystem_1bbl  \\\n",
       "0                        0                   0                0   \n",
       "1                        0                   0                0   \n",
       "2                        0                   0                0   \n",
       "3                        0                   0                0   \n",
       "4                        0                   0                0   \n",
       "..                     ...                 ...              ...   \n",
       "200                      0                   0                0   \n",
       "201                      0                   0                0   \n",
       "202                      0                   0                0   \n",
       "203                      0                   0                0   \n",
       "204                      0                   0                0   \n",
       "\n",
       "     fuelsystem_2bbl  fuelsystem_4bbl  fuelsystem_idi  fuelsystem_mfi  \\\n",
       "0                  0                0               0               0   \n",
       "1                  0                0               0               0   \n",
       "2                  0                0               0               0   \n",
       "3                  0                0               0               0   \n",
       "4                  0                0               0               0   \n",
       "..               ...              ...             ...             ...   \n",
       "200                0                0               0               0   \n",
       "201                0                0               0               0   \n",
       "202                0                0               0               0   \n",
       "203                0                0               1               0   \n",
       "204                0                0               0               0   \n",
       "\n",
       "     fuelsystem_mpfi  fuelsystem_spdi  fuelsystem_spfi  \n",
       "0                  1                0                0  \n",
       "1                  1                0                0  \n",
       "2                  1                0                0  \n",
       "3                  1                0                0  \n",
       "4                  1                0                0  \n",
       "..               ...              ...              ...  \n",
       "200                1                0                0  \n",
       "201                1                0                0  \n",
       "202                1                0                0  \n",
       "203                0                0                0  \n",
       "204                1                0                0  \n",
       "\n",
       "[205 rows x 58 columns]"
      ]
     },
     "execution_count": 29,
     "metadata": {},
     "output_type": "execute_result"
    }
   ],
   "source": [
    "encoded_df"
   ]
  },
  {
   "cell_type": "markdown",
   "metadata": {},
   "source": [
    "### Dropping dummies to avoid multicollinearity \n",
    "\n",
    "(This is as I set drop_first to False to have more control over which dummies to keep/delete)"
   ]
  },
  {
   "cell_type": "code",
   "execution_count": 30,
   "metadata": {},
   "outputs": [
    {
     "data": {
      "text/plain": [
       "Index(['symboling', 'fueltype', 'aspiration', 'doornumber', 'carbody',\n",
       "       'drivewheel', 'enginelocation', 'enginetype', 'cylindernumber',\n",
       "       'fuelsystem'],\n",
       "      dtype='object')"
      ]
     },
     "execution_count": 30,
     "metadata": {},
     "output_type": "execute_result"
    }
   ],
   "source": [
    "cat_cols"
   ]
  },
  {
   "cell_type": "markdown",
   "metadata": {},
   "source": [
    "#### Fuel Type"
   ]
  },
  {
   "cell_type": "code",
   "execution_count": 31,
   "metadata": {},
   "outputs": [],
   "source": [
    "# to drop diesel and rename fuel_type_gas to is_gas\n",
    "# 1 => fuel type is gas, 0=> fuel_type is diesel\n",
    "encoded_df = encoded_df.drop(columns = ['fueltype_diesel'])"
   ]
  },
  {
   "cell_type": "code",
   "execution_count": 32,
   "metadata": {},
   "outputs": [],
   "source": [
    "encoded_df = encoded_df.rename(columns= {'fueltype_gas' : 'is_gas'} )"
   ]
  },
  {
   "cell_type": "markdown",
   "metadata": {},
   "source": [
    "#### Aspiration"
   ]
  },
  {
   "cell_type": "code",
   "execution_count": 33,
   "metadata": {},
   "outputs": [],
   "source": [
    "# to drop std and rename aspiration_turbo to is_turbo\n",
    "# 1 => aspiration is turbo, 0=> aspiration is std(standard)\n",
    "encoded_df = encoded_df.drop(columns = ['aspiration_std'])\n",
    "\n",
    "encoded_df = encoded_df.rename(columns= {'aspiration_turbo' : 'is_turbo'} )"
   ]
  },
  {
   "cell_type": "markdown",
   "metadata": {},
   "source": [
    "#### DoorNumber"
   ]
  },
  {
   "cell_type": "code",
   "execution_count": 34,
   "metadata": {},
   "outputs": [],
   "source": [
    "# to drop two and rename doornumber_four to has_four_doors\n",
    "# 1 => doornumber is 4, 0=> doornumber is 2\n",
    "encoded_df = encoded_df.drop(columns = ['doornumber_two'])\n",
    "\n",
    "encoded_df = encoded_df.rename(columns= {'doornumber_four' : 'has_four_doors'} )"
   ]
  },
  {
   "cell_type": "markdown",
   "metadata": {},
   "source": [
    "#### Car Body"
   ]
  },
  {
   "cell_type": "code",
   "execution_count": 35,
   "metadata": {},
   "outputs": [],
   "source": [
    "# to drop wagon as wagon is similar to a hatchback and has lower frequency\n",
    "encoded_df = encoded_df.drop(columns = ['carbody_wagon'])"
   ]
  },
  {
   "cell_type": "markdown",
   "metadata": {},
   "source": [
    "#### Wheel Drive"
   ]
  },
  {
   "cell_type": "code",
   "execution_count": 36,
   "metadata": {},
   "outputs": [],
   "source": [
    "encoded_df = encoded_df.drop(columns = ['drivewheel_4wd'])\n",
    "encoded_df = encoded_df.rename(columns= {'drivewheel_fwd' : 'is_front_wheel_drive',\n",
    "                                        'drivewheel_rwd':'is_rear_wheel_drive' \n",
    "                                         } \n",
    "                              )"
   ]
  },
  {
   "cell_type": "markdown",
   "metadata": {},
   "source": [
    "#### Engine Location"
   ]
  },
  {
   "cell_type": "code",
   "execution_count": 37,
   "metadata": {},
   "outputs": [],
   "source": [
    "encoded_df = encoded_df.drop(columns = ['enginelocation_rear'])\n",
    "\n",
    "encoded_df = encoded_df.rename(columns= {'enginelocation_front' : 'is_front_engine'} )"
   ]
  },
  {
   "cell_type": "markdown",
   "metadata": {},
   "source": [
    "#### Engine Type"
   ]
  },
  {
   "cell_type": "code",
   "execution_count": 38,
   "metadata": {},
   "outputs": [],
   "source": [
    "encoded_df = encoded_df.drop(columns = ['enginetype_dohcv'])"
   ]
  },
  {
   "cell_type": "markdown",
   "metadata": {},
   "source": [
    "#### Cyclinder number"
   ]
  },
  {
   "cell_type": "code",
   "execution_count": 39,
   "metadata": {},
   "outputs": [],
   "source": [
    "encoded_df = encoded_df.drop(columns = ['cylindernumber_twelve'])\n",
    "encoded_df = encoded_df.rename(columns= {'cylindernumber_eight' : 'is_eight_cylinder',\n",
    "                                        'cylindernumber_five':'is_five_cylinder',\n",
    "                                        'cylindernumber_four':'is_four_cylinder' ,\n",
    "                                        'cylindernumber_six':'is_six_cylinder' ,\n",
    "                                        'cylindernumber_three':'is_three_cylinder' ,\n",
    "                                        'cylindernumber_two':'is_two_cylinder' \n",
    "                                         } \n",
    "                              )\n"
   ]
  },
  {
   "cell_type": "markdown",
   "metadata": {},
   "source": [
    "#### Fuel System"
   ]
  },
  {
   "cell_type": "code",
   "execution_count": 40,
   "metadata": {},
   "outputs": [],
   "source": [
    "encoded_df = encoded_df.drop(columns = ['fuelsystem_spfi'])"
   ]
  },
  {
   "cell_type": "markdown",
   "metadata": {},
   "source": [
    "#### Symboling"
   ]
  },
  {
   "cell_type": "markdown",
   "metadata": {},
   "source": [
    "Deciding not to drop a dummy for Symboling column are there are no entires for -3 and so there is no need to drop another dummy variable."
   ]
  },
  {
   "cell_type": "markdown",
   "metadata": {},
   "source": [
    "## Checking of df before exporting"
   ]
  },
  {
   "cell_type": "code",
   "execution_count": 41,
   "metadata": {},
   "outputs": [],
   "source": [
    "final_df = encoded_df.copy()"
   ]
  },
  {
   "cell_type": "code",
   "execution_count": 42,
   "metadata": {},
   "outputs": [
    {
     "name": "stdout",
     "output_type": "stream",
     "text": [
      "\n",
      "    Data Quality Checks:\n",
      "    --------------------------------------------\n",
      "    No. of rows: 205\n",
      "    No. of columns: 49\n",
      "    No. of missing values: 0\n",
      "    No. of duplicated rows: 1\n",
      "    No. of duplicated columns: 0\n",
      "    \n"
     ]
    }
   ],
   "source": [
    "df_check(final_df)"
   ]
  },
  {
   "cell_type": "code",
   "execution_count": 43,
   "metadata": {},
   "outputs": [
    {
     "data": {
      "text/html": [
       "<div>\n",
       "<style scoped>\n",
       "    .dataframe tbody tr th:only-of-type {\n",
       "        vertical-align: middle;\n",
       "    }\n",
       "\n",
       "    .dataframe tbody tr th {\n",
       "        vertical-align: top;\n",
       "    }\n",
       "\n",
       "    .dataframe thead th {\n",
       "        text-align: right;\n",
       "    }\n",
       "</style>\n",
       "<table border=\"1\" class=\"dataframe\">\n",
       "  <thead>\n",
       "    <tr style=\"text-align: right;\">\n",
       "      <th></th>\n",
       "      <th>24</th>\n",
       "      <th>120</th>\n",
       "    </tr>\n",
       "  </thead>\n",
       "  <tbody>\n",
       "    <tr>\n",
       "      <th>wheelbase</th>\n",
       "      <td>-0.841772</td>\n",
       "      <td>-0.841772</td>\n",
       "    </tr>\n",
       "    <tr>\n",
       "      <th>carlength</th>\n",
       "      <td>-1.360937</td>\n",
       "      <td>-1.360937</td>\n",
       "    </tr>\n",
       "    <tr>\n",
       "      <th>carwidth</th>\n",
       "      <td>-0.984972</td>\n",
       "      <td>-0.984972</td>\n",
       "    </tr>\n",
       "    <tr>\n",
       "      <th>carheight</th>\n",
       "      <td>-1.281972</td>\n",
       "      <td>-1.281972</td>\n",
       "    </tr>\n",
       "    <tr>\n",
       "      <th>curbweight</th>\n",
       "      <td>-1.133146</td>\n",
       "      <td>-1.133146</td>\n",
       "    </tr>\n",
       "    <tr>\n",
       "      <th>boreratio</th>\n",
       "      <td>-1.331531</td>\n",
       "      <td>-1.331531</td>\n",
       "    </tr>\n",
       "    <tr>\n",
       "      <th>stroke</th>\n",
       "      <td>-0.081241</td>\n",
       "      <td>-0.081241</td>\n",
       "    </tr>\n",
       "    <tr>\n",
       "      <th>compressionratio</th>\n",
       "      <td>-0.187398</td>\n",
       "      <td>-0.187398</td>\n",
       "    </tr>\n",
       "    <tr>\n",
       "      <th>peakrpm</th>\n",
       "      <td>0.787855</td>\n",
       "      <td>0.787855</td>\n",
       "    </tr>\n",
       "    <tr>\n",
       "      <th>citympg</th>\n",
       "      <td>0.885740</td>\n",
       "      <td>0.885740</td>\n",
       "    </tr>\n",
       "    <tr>\n",
       "      <th>highwaympg</th>\n",
       "      <td>1.055193</td>\n",
       "      <td>1.055193</td>\n",
       "    </tr>\n",
       "    <tr>\n",
       "      <th>price</th>\n",
       "      <td>-0.884353</td>\n",
       "      <td>-0.884353</td>\n",
       "    </tr>\n",
       "    <tr>\n",
       "      <th>enginesize_transformed</th>\n",
       "      <td>-1.064121</td>\n",
       "      <td>-1.064121</td>\n",
       "    </tr>\n",
       "    <tr>\n",
       "      <th>horsepower_transformed</th>\n",
       "      <td>-1.057361</td>\n",
       "      <td>-1.057361</td>\n",
       "    </tr>\n",
       "    <tr>\n",
       "      <th>symboling_-1</th>\n",
       "      <td>0.000000</td>\n",
       "      <td>0.000000</td>\n",
       "    </tr>\n",
       "    <tr>\n",
       "      <th>symboling_-2</th>\n",
       "      <td>0.000000</td>\n",
       "      <td>0.000000</td>\n",
       "    </tr>\n",
       "    <tr>\n",
       "      <th>symboling_0</th>\n",
       "      <td>0.000000</td>\n",
       "      <td>0.000000</td>\n",
       "    </tr>\n",
       "    <tr>\n",
       "      <th>symboling_1</th>\n",
       "      <td>1.000000</td>\n",
       "      <td>1.000000</td>\n",
       "    </tr>\n",
       "    <tr>\n",
       "      <th>symboling_2</th>\n",
       "      <td>0.000000</td>\n",
       "      <td>0.000000</td>\n",
       "    </tr>\n",
       "    <tr>\n",
       "      <th>symboling_3</th>\n",
       "      <td>0.000000</td>\n",
       "      <td>0.000000</td>\n",
       "    </tr>\n",
       "    <tr>\n",
       "      <th>is_gas</th>\n",
       "      <td>1.000000</td>\n",
       "      <td>1.000000</td>\n",
       "    </tr>\n",
       "    <tr>\n",
       "      <th>is_turbo</th>\n",
       "      <td>0.000000</td>\n",
       "      <td>0.000000</td>\n",
       "    </tr>\n",
       "    <tr>\n",
       "      <th>has_four_doors</th>\n",
       "      <td>1.000000</td>\n",
       "      <td>1.000000</td>\n",
       "    </tr>\n",
       "    <tr>\n",
       "      <th>carbody_convertible</th>\n",
       "      <td>0.000000</td>\n",
       "      <td>0.000000</td>\n",
       "    </tr>\n",
       "    <tr>\n",
       "      <th>carbody_hardtop</th>\n",
       "      <td>0.000000</td>\n",
       "      <td>0.000000</td>\n",
       "    </tr>\n",
       "    <tr>\n",
       "      <th>carbody_hatchback</th>\n",
       "      <td>1.000000</td>\n",
       "      <td>1.000000</td>\n",
       "    </tr>\n",
       "    <tr>\n",
       "      <th>carbody_sedan</th>\n",
       "      <td>0.000000</td>\n",
       "      <td>0.000000</td>\n",
       "    </tr>\n",
       "    <tr>\n",
       "      <th>is_front_wheel_drive</th>\n",
       "      <td>1.000000</td>\n",
       "      <td>1.000000</td>\n",
       "    </tr>\n",
       "    <tr>\n",
       "      <th>is_rear_wheel_drive</th>\n",
       "      <td>0.000000</td>\n",
       "      <td>0.000000</td>\n",
       "    </tr>\n",
       "    <tr>\n",
       "      <th>is_front_engine</th>\n",
       "      <td>1.000000</td>\n",
       "      <td>1.000000</td>\n",
       "    </tr>\n",
       "    <tr>\n",
       "      <th>enginetype_dohc</th>\n",
       "      <td>0.000000</td>\n",
       "      <td>0.000000</td>\n",
       "    </tr>\n",
       "    <tr>\n",
       "      <th>enginetype_l</th>\n",
       "      <td>0.000000</td>\n",
       "      <td>0.000000</td>\n",
       "    </tr>\n",
       "    <tr>\n",
       "      <th>enginetype_ohc</th>\n",
       "      <td>1.000000</td>\n",
       "      <td>1.000000</td>\n",
       "    </tr>\n",
       "    <tr>\n",
       "      <th>enginetype_ohcf</th>\n",
       "      <td>0.000000</td>\n",
       "      <td>0.000000</td>\n",
       "    </tr>\n",
       "    <tr>\n",
       "      <th>enginetype_ohcv</th>\n",
       "      <td>0.000000</td>\n",
       "      <td>0.000000</td>\n",
       "    </tr>\n",
       "    <tr>\n",
       "      <th>enginetype_rotor</th>\n",
       "      <td>0.000000</td>\n",
       "      <td>0.000000</td>\n",
       "    </tr>\n",
       "    <tr>\n",
       "      <th>is_eight_cylinder</th>\n",
       "      <td>0.000000</td>\n",
       "      <td>0.000000</td>\n",
       "    </tr>\n",
       "    <tr>\n",
       "      <th>is_five_cylinder</th>\n",
       "      <td>0.000000</td>\n",
       "      <td>0.000000</td>\n",
       "    </tr>\n",
       "    <tr>\n",
       "      <th>is_four_cylinder</th>\n",
       "      <td>1.000000</td>\n",
       "      <td>1.000000</td>\n",
       "    </tr>\n",
       "    <tr>\n",
       "      <th>is_six_cylinder</th>\n",
       "      <td>0.000000</td>\n",
       "      <td>0.000000</td>\n",
       "    </tr>\n",
       "    <tr>\n",
       "      <th>is_three_cylinder</th>\n",
       "      <td>0.000000</td>\n",
       "      <td>0.000000</td>\n",
       "    </tr>\n",
       "    <tr>\n",
       "      <th>is_two_cylinder</th>\n",
       "      <td>0.000000</td>\n",
       "      <td>0.000000</td>\n",
       "    </tr>\n",
       "    <tr>\n",
       "      <th>fuelsystem_1bbl</th>\n",
       "      <td>0.000000</td>\n",
       "      <td>0.000000</td>\n",
       "    </tr>\n",
       "    <tr>\n",
       "      <th>fuelsystem_2bbl</th>\n",
       "      <td>1.000000</td>\n",
       "      <td>1.000000</td>\n",
       "    </tr>\n",
       "    <tr>\n",
       "      <th>fuelsystem_4bbl</th>\n",
       "      <td>0.000000</td>\n",
       "      <td>0.000000</td>\n",
       "    </tr>\n",
       "    <tr>\n",
       "      <th>fuelsystem_idi</th>\n",
       "      <td>0.000000</td>\n",
       "      <td>0.000000</td>\n",
       "    </tr>\n",
       "    <tr>\n",
       "      <th>fuelsystem_mfi</th>\n",
       "      <td>0.000000</td>\n",
       "      <td>0.000000</td>\n",
       "    </tr>\n",
       "    <tr>\n",
       "      <th>fuelsystem_mpfi</th>\n",
       "      <td>0.000000</td>\n",
       "      <td>0.000000</td>\n",
       "    </tr>\n",
       "    <tr>\n",
       "      <th>fuelsystem_spdi</th>\n",
       "      <td>0.000000</td>\n",
       "      <td>0.000000</td>\n",
       "    </tr>\n",
       "  </tbody>\n",
       "</table>\n",
       "</div>"
      ],
      "text/plain": [
       "                             24        120\n",
       "wheelbase              -0.841772 -0.841772\n",
       "carlength              -1.360937 -1.360937\n",
       "carwidth               -0.984972 -0.984972\n",
       "carheight              -1.281972 -1.281972\n",
       "curbweight             -1.133146 -1.133146\n",
       "boreratio              -1.331531 -1.331531\n",
       "stroke                 -0.081241 -0.081241\n",
       "compressionratio       -0.187398 -0.187398\n",
       "peakrpm                 0.787855  0.787855\n",
       "citympg                 0.885740  0.885740\n",
       "highwaympg              1.055193  1.055193\n",
       "price                  -0.884353 -0.884353\n",
       "enginesize_transformed -1.064121 -1.064121\n",
       "horsepower_transformed -1.057361 -1.057361\n",
       "symboling_-1            0.000000  0.000000\n",
       "symboling_-2            0.000000  0.000000\n",
       "symboling_0             0.000000  0.000000\n",
       "symboling_1             1.000000  1.000000\n",
       "symboling_2             0.000000  0.000000\n",
       "symboling_3             0.000000  0.000000\n",
       "is_gas                  1.000000  1.000000\n",
       "is_turbo                0.000000  0.000000\n",
       "has_four_doors          1.000000  1.000000\n",
       "carbody_convertible     0.000000  0.000000\n",
       "carbody_hardtop         0.000000  0.000000\n",
       "carbody_hatchback       1.000000  1.000000\n",
       "carbody_sedan           0.000000  0.000000\n",
       "is_front_wheel_drive    1.000000  1.000000\n",
       "is_rear_wheel_drive     0.000000  0.000000\n",
       "is_front_engine         1.000000  1.000000\n",
       "enginetype_dohc         0.000000  0.000000\n",
       "enginetype_l            0.000000  0.000000\n",
       "enginetype_ohc          1.000000  1.000000\n",
       "enginetype_ohcf         0.000000  0.000000\n",
       "enginetype_ohcv         0.000000  0.000000\n",
       "enginetype_rotor        0.000000  0.000000\n",
       "is_eight_cylinder       0.000000  0.000000\n",
       "is_five_cylinder        0.000000  0.000000\n",
       "is_four_cylinder        1.000000  1.000000\n",
       "is_six_cylinder         0.000000  0.000000\n",
       "is_three_cylinder       0.000000  0.000000\n",
       "is_two_cylinder         0.000000  0.000000\n",
       "fuelsystem_1bbl         0.000000  0.000000\n",
       "fuelsystem_2bbl         1.000000  1.000000\n",
       "fuelsystem_4bbl         0.000000  0.000000\n",
       "fuelsystem_idi          0.000000  0.000000\n",
       "fuelsystem_mfi          0.000000  0.000000\n",
       "fuelsystem_mpfi         0.000000  0.000000\n",
       "fuelsystem_spdi         0.000000  0.000000"
      ]
     },
     "execution_count": 43,
     "metadata": {},
     "output_type": "execute_result"
    }
   ],
   "source": [
    "final_df[final_df.duplicated(keep=False)].T"
   ]
  },
  {
   "cell_type": "markdown",
   "metadata": {},
   "source": [
    "**Comment:**\n",
    "\n",
    "Since there is only a single duplciated, I will remove the duplicated row, likley to be due to double entry of same car or a spelling error in carName (see Appendix for further explanation)"
   ]
  },
  {
   "cell_type": "code",
   "execution_count": 44,
   "metadata": {},
   "outputs": [],
   "source": [
    "final_df.drop_duplicates(inplace=True)"
   ]
  },
  {
   "cell_type": "code",
   "execution_count": 45,
   "metadata": {},
   "outputs": [
    {
     "name": "stdout",
     "output_type": "stream",
     "text": [
      "\n",
      "    Data Quality Checks:\n",
      "    --------------------------------------------\n",
      "    No. of rows: 204\n",
      "    No. of columns: 49\n",
      "    No. of missing values: 0\n",
      "    No. of duplicated rows: 0\n",
      "    No. of duplicated columns: 0\n",
      "    \n"
     ]
    }
   ],
   "source": [
    "df_check(final_df)"
   ]
  },
  {
   "cell_type": "markdown",
   "metadata": {},
   "source": [
    "## Exporting 'cleaned' df to CSV\n",
    "----"
   ]
  },
  {
   "cell_type": "code",
   "execution_count": 46,
   "metadata": {},
   "outputs": [],
   "source": [
    "final_df.to_csv('../../data/car_data_processed.csv')"
   ]
  },
  {
   "cell_type": "markdown",
   "metadata": {},
   "source": [
    "## Conclusion\n",
    "-----\n"
   ]
  },
  {
   "cell_type": "markdown",
   "metadata": {},
   "source": [
    "## Appendix\n",
    "----------"
   ]
  },
  {
   "cell_type": "markdown",
   "metadata": {},
   "source": [
    "### Compression Ratio"
   ]
  },
  {
   "cell_type": "markdown",
   "metadata": {},
   "source": [
    "#### Histogram plot"
   ]
  },
  {
   "cell_type": "code",
   "execution_count": 47,
   "metadata": {},
   "outputs": [
    {
     "data": {
      "image/png": "[encoded data removed]",
      "text/plain": [
       "<Figure size 640x480 with 1 Axes>"
      ]
     },
     "metadata": {},
     "output_type": "display_data"
    }
   ],
   "source": [
    "plt.figure()\n",
    "plt.hist(car_df['compressionratio'], bins = 20,edgecolor='black',color='teal')\n",
    "plt.title('Compression Ratio Histogram')\n",
    "plt.show()"
   ]
  },
  {
   "cell_type": "markdown",
   "metadata": {},
   "source": [
    "#### Comparing engine size between two peaks"
   ]
  },
  {
   "cell_type": "code",
   "execution_count": 48,
   "metadata": {},
   "outputs": [
    {
     "data": {
      "text/plain": [
       "np.float64(135.7)"
      ]
     },
     "execution_count": 48,
     "metadata": {},
     "output_type": "execute_result"
    }
   ],
   "source": [
    "car_df[car_df['compressionratio'] > 20]['enginesize'].mean()\n"
   ]
  },
  {
   "cell_type": "code",
   "execution_count": 49,
   "metadata": {},
   "outputs": [
    {
     "data": {
      "text/plain": [
       "np.float64(125.95675675675676)"
      ]
     },
     "execution_count": 49,
     "metadata": {},
     "output_type": "execute_result"
    }
   ],
   "source": [
    "car_df[car_df['compressionratio'] < 20]['enginesize'].mean()"
   ]
  },
  {
   "cell_type": "markdown",
   "metadata": {},
   "source": [
    "**Comment**\n",
    "\n",
    "As expected, larger engines have a higher compression ratio than smaller engines. In the dataset we have already seen there is a distinction between standard and luxury cars, this split is something that is reflected here with the two groups for compression ratio with the less frequent, higher compression ratio siginifying luxury cars."
   ]
  },
  {
   "cell_type": "markdown",
   "metadata": {},
   "source": [
    "#### Comparing compression ratio between two peaks\n"
   ]
  },
  {
   "cell_type": "code",
   "execution_count": 50,
   "metadata": {},
   "outputs": [
    {
     "data": {
      "text/plain": [
       "np.float64(12999.7982)"
      ]
     },
     "execution_count": 50,
     "metadata": {},
     "output_type": "execute_result"
    }
   ],
   "source": [
    "car_df[car_df['compressionratio'] < 20]['price'].mean()"
   ]
  },
  {
   "cell_type": "code",
   "execution_count": 51,
   "metadata": {},
   "outputs": [
    {
     "data": {
      "text/plain": [
       "np.float64(15838.15)"
      ]
     },
     "execution_count": 51,
     "metadata": {},
     "output_type": "execute_result"
    }
   ],
   "source": [
    "car_df[car_df['compressionratio'] > 20]['price'].mean()"
   ]
  },
  {
   "cell_type": "markdown",
   "metadata": {},
   "source": [
    "**Comment**\n",
    "\n",
    "Differences in price further strengthen the argument that the two groups we see in compression ratio histogram are for standard and luxury cars."
   ]
  },
  {
   "cell_type": "markdown",
   "metadata": {},
   "source": [
    "### Duplicates"
   ]
  },
  {
   "cell_type": "code",
   "execution_count": 52,
   "metadata": {},
   "outputs": [
    {
     "data": {
      "text/plain": [
       "['alfa-romero giulia',\n",
       " 'alfa-romero stelvio',\n",
       " 'alfa-romero Quadrifoglio',\n",
       " 'audi 100 ls',\n",
       " 'audi 100ls',\n",
       " 'audi fox',\n",
       " 'audi 5000',\n",
       " 'audi 4000',\n",
       " 'audi 5000s (diesel)',\n",
       " 'bmw 320i',\n",
       " 'bmw x1',\n",
       " 'bmw x3',\n",
       " 'bmw z4',\n",
       " 'bmw x4',\n",
       " 'bmw x5',\n",
       " 'chevrolet impala',\n",
       " 'chevrolet monte carlo',\n",
       " 'chevrolet vega 2300',\n",
       " 'dodge rampage',\n",
       " 'dodge challenger se',\n",
       " 'dodge d200',\n",
       " 'dodge monaco (sw)',\n",
       " 'dodge colt hardtop',\n",
       " 'dodge colt (sw)',\n",
       " 'dodge coronet custom',\n",
       " 'dodge dart custom',\n",
       " 'dodge coronet custom (sw)',\n",
       " 'honda civic',\n",
       " 'honda civic cvcc',\n",
       " 'honda accord cvcc',\n",
       " 'honda accord lx',\n",
       " 'honda civic 1500 gl',\n",
       " 'honda accord',\n",
       " 'honda civic 1300',\n",
       " 'honda prelude',\n",
       " 'honda civic (auto)',\n",
       " 'isuzu MU-X',\n",
       " 'isuzu D-Max ',\n",
       " 'isuzu D-Max V-Cross',\n",
       " 'jaguar xj',\n",
       " 'jaguar xf',\n",
       " 'jaguar xk',\n",
       " 'maxda rx3',\n",
       " 'maxda glc deluxe',\n",
       " 'mazda rx2 coupe',\n",
       " 'mazda rx-4',\n",
       " 'mazda glc deluxe',\n",
       " 'mazda 626',\n",
       " 'mazda glc',\n",
       " 'mazda rx-7 gs',\n",
       " 'mazda glc 4',\n",
       " 'mazda glc custom l',\n",
       " 'mazda glc custom',\n",
       " 'buick electra 225 custom',\n",
       " 'buick century luxus (sw)',\n",
       " 'buick century',\n",
       " 'buick skyhawk',\n",
       " 'buick opel isuzu deluxe',\n",
       " 'buick skylark',\n",
       " 'buick century special',\n",
       " 'buick regal sport coupe (turbo)',\n",
       " 'mercury cougar',\n",
       " 'mitsubishi mirage',\n",
       " 'mitsubishi lancer',\n",
       " 'mitsubishi outlander',\n",
       " 'mitsubishi g4',\n",
       " 'mitsubishi mirage g4',\n",
       " 'mitsubishi montero',\n",
       " 'mitsubishi pajero',\n",
       " 'Nissan versa',\n",
       " 'nissan gt-r',\n",
       " 'nissan rogue',\n",
       " 'nissan latio',\n",
       " 'nissan titan',\n",
       " 'nissan leaf',\n",
       " 'nissan juke',\n",
       " 'nissan note',\n",
       " 'nissan clipper',\n",
       " 'nissan nv200',\n",
       " 'nissan dayz',\n",
       " 'nissan fuga',\n",
       " 'nissan otti',\n",
       " 'nissan teana',\n",
       " 'nissan kicks',\n",
       " 'peugeot 504',\n",
       " 'peugeot 304',\n",
       " 'peugeot 504 (sw)',\n",
       " 'peugeot 604sl',\n",
       " 'peugeot 505s turbo diesel',\n",
       " 'plymouth fury iii',\n",
       " 'plymouth cricket',\n",
       " 'plymouth satellite custom (sw)',\n",
       " 'plymouth fury gran sedan',\n",
       " 'plymouth valiant',\n",
       " 'plymouth duster',\n",
       " 'porsche macan',\n",
       " 'porcshce panamera',\n",
       " 'porsche cayenne',\n",
       " 'porsche boxter',\n",
       " 'renault 12tl',\n",
       " 'renault 5 gtl',\n",
       " 'saab 99e',\n",
       " 'saab 99le',\n",
       " 'saab 99gle',\n",
       " 'subaru',\n",
       " 'subaru dl',\n",
       " 'subaru brz',\n",
       " 'subaru baja',\n",
       " 'subaru r1',\n",
       " 'subaru r2',\n",
       " 'subaru trezia',\n",
       " 'subaru tribeca',\n",
       " 'toyota corona mark ii',\n",
       " 'toyota corona',\n",
       " 'toyota corolla 1200',\n",
       " 'toyota corona hardtop',\n",
       " 'toyota corolla 1600 (sw)',\n",
       " 'toyota carina',\n",
       " 'toyota mark ii',\n",
       " 'toyota corolla',\n",
       " 'toyota corolla liftback',\n",
       " 'toyota celica gt liftback',\n",
       " 'toyota corolla tercel',\n",
       " 'toyota corona liftback',\n",
       " 'toyota starlet',\n",
       " 'toyota tercel',\n",
       " 'toyota cressida',\n",
       " 'toyota celica gt',\n",
       " 'toyouta tercel',\n",
       " 'vokswagen rabbit',\n",
       " 'volkswagen 1131 deluxe sedan',\n",
       " 'volkswagen model 111',\n",
       " 'volkswagen type 3',\n",
       " 'volkswagen 411 (sw)',\n",
       " 'volkswagen super beetle',\n",
       " 'volkswagen dasher',\n",
       " 'vw dasher',\n",
       " 'vw rabbit',\n",
       " 'volkswagen rabbit',\n",
       " 'volkswagen rabbit custom',\n",
       " 'volvo 145e (sw)',\n",
       " 'volvo 144ea',\n",
       " 'volvo 244dl',\n",
       " 'volvo 245',\n",
       " 'volvo 264gl',\n",
       " 'volvo diesel',\n",
       " 'volvo 246']"
      ]
     },
     "execution_count": 52,
     "metadata": {},
     "output_type": "execute_result"
    }
   ],
   "source": [
    "car_df['CarName'].unique().tolist()"
   ]
  },
  {
   "cell_type": "markdown",
   "metadata": {},
   "source": [
    "**Comment**\n",
    "There is a spelling mistake:\n",
    "\n",
    "    'vokswagen rabbit'\n",
    "\n",
    "    'volkswagen rabbit'\n",
    "\n",
    "Both rows are modelling the same car (volkswagen rabbit) but one has a spelling mistake and so this is the cause of the duplciate we get when we drop car name from the dataframe."
   ]
  }
 ],
 "metadata": {
  "kernelspec": {
   "display_name": "stats_models",
   "language": "python",
   "name": "python3"
  },
  "language_info": {
   "codemirror_mode": {
    "name": "ipython",
    "version": 3
   },
   "file_extension": ".py",
   "mimetype": "text/x-python",
   "name": "python",
   "nbconvert_exporter": "python",
   "pygments_lexer": "ipython3",
   "version": "3.11.5"
  }
 },
 "nbformat": 4,
 "nbformat_minor": 2
}
