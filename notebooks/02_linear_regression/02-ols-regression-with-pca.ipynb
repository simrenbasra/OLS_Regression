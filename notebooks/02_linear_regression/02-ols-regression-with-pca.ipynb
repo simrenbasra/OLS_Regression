{
 "cells": [
  {
   "cell_type": "markdown",
   "metadata": {},
   "source": [
    "-----\n",
    "# OLS Regression with PCA\n",
    "----\n"
   ]
  },
  {
   "cell_type": "markdown",
   "metadata": {},
   "source": [
    "### Notebook Summary\n",
    "\n",
    "In this notebook, I will build an Ordinary Least Squares (OLS) regression model after performing PCA to see if results are any better from base model. (01-old-linear-regression)\n",
    "\n",
    "The process includes:\n",
    "\n",
    "- **Data Loading:** Loading in processed data from 02-data-preprocessing.\n",
    "\n",
    "- **Perform PCA:** Apply PCA to reduce multicollinearity and features before building OLS regression model.\n",
    "- **Building OLS Regression Model:** Build a OLS regression model \n",
    "- **Model Assessment:** Assess R-squared, MAE and MSE.\n",
    "- **Model Comparison:** Compare model results to base model.\n",
    "\n",
    "**NOTE:** Not using the linear_utils class to build model since I am unable to feed in X variables as part of the class, to revisit at a later date."
   ]
  },
  {
   "cell_type": "markdown",
   "metadata": {},
   "source": [
    "## Set Up\n",
    "----"
   ]
  },
  {
   "cell_type": "code",
   "execution_count": 39,
   "metadata": {},
   "outputs": [],
   "source": [
    "# Importing relevant packages\n",
    "import pandas as pd\n",
    "import numpy as np\n",
    "import matplotlib.pyplot as plt\n",
    "import seaborn as sns\n",
    "import sys\n",
    "from sklearn.decomposition import PCA\n",
    "import statsmodels.api as sm\n",
    "from statsmodels.stats.outliers_influence import variance_inflation_factor\n",
    "import statsmodels.api as sm\n",
    "from scipy import stats\n",
    "from scipy.stats import norm"
   ]
  },
  {
   "cell_type": "code",
   "execution_count": 13,
   "metadata": {},
   "outputs": [],
   "source": [
    "# Accessing Linear_Model_Builder class \n",
    "sys.path.append('../../src')\n",
    "\n",
    "from linear_utils import Linear_Model_Builder  "
   ]
  },
  {
   "cell_type": "markdown",
   "metadata": {},
   "source": [
    "## Data Loading\n",
    "------"
   ]
  },
  {
   "cell_type": "code",
   "execution_count": 14,
   "metadata": {},
   "outputs": [],
   "source": [
    "car_df = pd.read_csv('../../data/car_data_processed.csv', index_col = 0)"
   ]
  },
  {
   "cell_type": "code",
   "execution_count": 15,
   "metadata": {},
   "outputs": [
    {
     "data": {
      "text/html": [
       "<div>\n",
       "<style scoped>\n",
       "    .dataframe tbody tr th:only-of-type {\n",
       "        vertical-align: middle;\n",
       "    }\n",
       "\n",
       "    .dataframe tbody tr th {\n",
       "        vertical-align: top;\n",
       "    }\n",
       "\n",
       "    .dataframe thead th {\n",
       "        text-align: right;\n",
       "    }\n",
       "</style>\n",
       "<table border=\"1\" class=\"dataframe\">\n",
       "  <thead>\n",
       "    <tr style=\"text-align: right;\">\n",
       "      <th></th>\n",
       "      <th>wheelbase</th>\n",
       "      <th>carlength</th>\n",
       "      <th>carwidth</th>\n",
       "      <th>carheight</th>\n",
       "      <th>curbweight</th>\n",
       "      <th>boreratio</th>\n",
       "      <th>stroke</th>\n",
       "      <th>compressionratio</th>\n",
       "      <th>peakrpm</th>\n",
       "      <th>citympg</th>\n",
       "      <th>...</th>\n",
       "      <th>is_six_cylinder</th>\n",
       "      <th>is_three_cylinder</th>\n",
       "      <th>is_two_cylinder</th>\n",
       "      <th>fuelsystem_1bbl</th>\n",
       "      <th>fuelsystem_2bbl</th>\n",
       "      <th>fuelsystem_4bbl</th>\n",
       "      <th>fuelsystem_idi</th>\n",
       "      <th>fuelsystem_mfi</th>\n",
       "      <th>fuelsystem_mpfi</th>\n",
       "      <th>fuelsystem_spdi</th>\n",
       "    </tr>\n",
       "  </thead>\n",
       "  <tbody>\n",
       "    <tr>\n",
       "      <th>0</th>\n",
       "      <td>-1.690772</td>\n",
       "      <td>-0.426521</td>\n",
       "      <td>-0.844782</td>\n",
       "      <td>-2.020417</td>\n",
       "      <td>-0.014566</td>\n",
       "      <td>0.519071</td>\n",
       "      <td>-1.839377</td>\n",
       "      <td>-0.288349</td>\n",
       "      <td>-0.262960</td>\n",
       "      <td>-0.646553</td>\n",
       "      <td>...</td>\n",
       "      <td>0</td>\n",
       "      <td>0</td>\n",
       "      <td>0</td>\n",
       "      <td>0</td>\n",
       "      <td>0</td>\n",
       "      <td>0</td>\n",
       "      <td>0</td>\n",
       "      <td>0</td>\n",
       "      <td>1</td>\n",
       "      <td>0</td>\n",
       "    </tr>\n",
       "    <tr>\n",
       "      <th>1</th>\n",
       "      <td>-1.690772</td>\n",
       "      <td>-0.426521</td>\n",
       "      <td>-0.844782</td>\n",
       "      <td>-2.020417</td>\n",
       "      <td>-0.014566</td>\n",
       "      <td>0.519071</td>\n",
       "      <td>-1.839377</td>\n",
       "      <td>-0.288349</td>\n",
       "      <td>-0.262960</td>\n",
       "      <td>-0.646553</td>\n",
       "      <td>...</td>\n",
       "      <td>0</td>\n",
       "      <td>0</td>\n",
       "      <td>0</td>\n",
       "      <td>0</td>\n",
       "      <td>0</td>\n",
       "      <td>0</td>\n",
       "      <td>0</td>\n",
       "      <td>0</td>\n",
       "      <td>1</td>\n",
       "      <td>0</td>\n",
       "    </tr>\n",
       "    <tr>\n",
       "      <th>2</th>\n",
       "      <td>-0.708596</td>\n",
       "      <td>-0.231513</td>\n",
       "      <td>-0.190566</td>\n",
       "      <td>-0.543527</td>\n",
       "      <td>0.514882</td>\n",
       "      <td>-2.404880</td>\n",
       "      <td>0.685946</td>\n",
       "      <td>-0.288349</td>\n",
       "      <td>-0.262960</td>\n",
       "      <td>-0.953012</td>\n",
       "      <td>...</td>\n",
       "      <td>1</td>\n",
       "      <td>0</td>\n",
       "      <td>0</td>\n",
       "      <td>0</td>\n",
       "      <td>0</td>\n",
       "      <td>0</td>\n",
       "      <td>0</td>\n",
       "      <td>0</td>\n",
       "      <td>1</td>\n",
       "      <td>0</td>\n",
       "    </tr>\n",
       "    <tr>\n",
       "      <th>3</th>\n",
       "      <td>0.173698</td>\n",
       "      <td>0.207256</td>\n",
       "      <td>0.136542</td>\n",
       "      <td>0.235942</td>\n",
       "      <td>-0.420797</td>\n",
       "      <td>-0.517266</td>\n",
       "      <td>0.462183</td>\n",
       "      <td>-0.035973</td>\n",
       "      <td>0.787855</td>\n",
       "      <td>-0.186865</td>\n",
       "      <td>...</td>\n",
       "      <td>0</td>\n",
       "      <td>0</td>\n",
       "      <td>0</td>\n",
       "      <td>0</td>\n",
       "      <td>0</td>\n",
       "      <td>0</td>\n",
       "      <td>0</td>\n",
       "      <td>0</td>\n",
       "      <td>1</td>\n",
       "      <td>0</td>\n",
       "    </tr>\n",
       "    <tr>\n",
       "      <th>4</th>\n",
       "      <td>0.107110</td>\n",
       "      <td>0.207256</td>\n",
       "      <td>0.230001</td>\n",
       "      <td>0.235942</td>\n",
       "      <td>0.516807</td>\n",
       "      <td>-0.517266</td>\n",
       "      <td>0.462183</td>\n",
       "      <td>-0.540725</td>\n",
       "      <td>0.787855</td>\n",
       "      <td>-1.106241</td>\n",
       "      <td>...</td>\n",
       "      <td>0</td>\n",
       "      <td>0</td>\n",
       "      <td>0</td>\n",
       "      <td>0</td>\n",
       "      <td>0</td>\n",
       "      <td>0</td>\n",
       "      <td>0</td>\n",
       "      <td>0</td>\n",
       "      <td>1</td>\n",
       "      <td>0</td>\n",
       "    </tr>\n",
       "  </tbody>\n",
       "</table>\n",
       "<p>5 rows × 49 columns</p>\n",
       "</div>"
      ],
      "text/plain": [
       "   wheelbase  carlength  carwidth  carheight  curbweight  boreratio    stroke  \\\n",
       "0  -1.690772  -0.426521 -0.844782  -2.020417   -0.014566   0.519071 -1.839377   \n",
       "1  -1.690772  -0.426521 -0.844782  -2.020417   -0.014566   0.519071 -1.839377   \n",
       "2  -0.708596  -0.231513 -0.190566  -0.543527    0.514882  -2.404880  0.685946   \n",
       "3   0.173698   0.207256  0.136542   0.235942   -0.420797  -0.517266  0.462183   \n",
       "4   0.107110   0.207256  0.230001   0.235942    0.516807  -0.517266  0.462183   \n",
       "\n",
       "   compressionratio   peakrpm   citympg  ...  is_six_cylinder  \\\n",
       "0         -0.288349 -0.262960 -0.646553  ...                0   \n",
       "1         -0.288349 -0.262960 -0.646553  ...                0   \n",
       "2         -0.288349 -0.262960 -0.953012  ...                1   \n",
       "3         -0.035973  0.787855 -0.186865  ...                0   \n",
       "4         -0.540725  0.787855 -1.106241  ...                0   \n",
       "\n",
       "   is_three_cylinder  is_two_cylinder  fuelsystem_1bbl  fuelsystem_2bbl  \\\n",
       "0                  0                0                0                0   \n",
       "1                  0                0                0                0   \n",
       "2                  0                0                0                0   \n",
       "3                  0                0                0                0   \n",
       "4                  0                0                0                0   \n",
       "\n",
       "   fuelsystem_4bbl  fuelsystem_idi  fuelsystem_mfi  fuelsystem_mpfi  \\\n",
       "0                0               0               0                1   \n",
       "1                0               0               0                1   \n",
       "2                0               0               0                1   \n",
       "3                0               0               0                1   \n",
       "4                0               0               0                1   \n",
       "\n",
       "   fuelsystem_spdi  \n",
       "0                0  \n",
       "1                0  \n",
       "2                0  \n",
       "3                0  \n",
       "4                0  \n",
       "\n",
       "[5 rows x 49 columns]"
      ]
     },
     "execution_count": 15,
     "metadata": {},
     "output_type": "execute_result"
    }
   ],
   "source": [
    "car_df.head()"
   ]
  },
  {
   "cell_type": "markdown",
   "metadata": {},
   "source": [
    "### Split independent variables (X) and target variable (y)"
   ]
  },
  {
   "cell_type": "code",
   "execution_count": 16,
   "metadata": {},
   "outputs": [],
   "source": [
    "my_linear_builder = Linear_Model_Builder(car_df,'price_transformed')"
   ]
  },
  {
   "cell_type": "code",
   "execution_count": 17,
   "metadata": {},
   "outputs": [],
   "source": [
    "y = my_linear_builder.target\n",
    "\n",
    "X = my_linear_builder.X"
   ]
  },
  {
   "cell_type": "code",
   "execution_count": 18,
   "metadata": {},
   "outputs": [
    {
     "data": {
      "text/plain": [
       "Index(['wheelbase', 'carlength', 'carwidth', 'carheight', 'curbweight',\n",
       "       'boreratio', 'stroke', 'compressionratio', 'peakrpm', 'citympg',\n",
       "       'highwaympg', 'enginesize_transformed', 'horsepower_transformed',\n",
       "       'symboling_-1', 'symboling_-2', 'symboling_0', 'symboling_1',\n",
       "       'symboling_2', 'symboling_3', 'is_gas', 'is_turbo', 'has_four_doors',\n",
       "       'carbody_convertible', 'carbody_hardtop', 'carbody_hatchback',\n",
       "       'carbody_sedan', 'is_front_wheel_drive', 'is_rear_wheel_drive',\n",
       "       'is_front_engine', 'enginetype_dohc', 'enginetype_l', 'enginetype_ohc',\n",
       "       'enginetype_ohcf', 'enginetype_ohcv', 'enginetype_rotor',\n",
       "       'is_eight_cylinder', 'is_five_cylinder', 'is_four_cylinder',\n",
       "       'is_six_cylinder', 'is_three_cylinder', 'is_two_cylinder',\n",
       "       'fuelsystem_1bbl', 'fuelsystem_2bbl', 'fuelsystem_4bbl',\n",
       "       'fuelsystem_idi', 'fuelsystem_mfi', 'fuelsystem_mpfi',\n",
       "       'fuelsystem_spdi'],\n",
       "      dtype='object')"
      ]
     },
     "execution_count": 18,
     "metadata": {},
     "output_type": "execute_result"
    }
   ],
   "source": [
    "X.columns"
   ]
  },
  {
   "cell_type": "markdown",
   "metadata": {},
   "source": [
    "## PCA\n",
    "-----"
   ]
  },
  {
   "cell_type": "markdown",
   "metadata": {},
   "source": [
    "### PCA - finding best parameter 'n_components'"
   ]
  },
  {
   "cell_type": "code",
   "execution_count": 19,
   "metadata": {},
   "outputs": [],
   "source": [
    "my_PCA = PCA()\n",
    "my_PCA.fit(X)\n",
    "# transform data \n",
    "X_PCA = my_PCA.transform(X)"
   ]
  },
  {
   "cell_type": "code",
   "execution_count": 20,
   "metadata": {},
   "outputs": [],
   "source": [
    "expl_var = my_PCA.explained_variance_ratio_"
   ]
  },
  {
   "cell_type": "code",
   "execution_count": 22,
   "metadata": {},
   "outputs": [
    {
     "data": {
      "image/png": "[encoded data removed]",
      "text/plain": [
       "<Figure size 1000x500 with 1 Axes>"
      ]
     },
     "metadata": {},
     "output_type": "display_data"
    }
   ],
   "source": [
    "plt.figure(figsize=(10,5))\n",
    "plt.plot(range(1,49),expl_var,marker='.', color = 'teal')\n",
    "plt.xlabel('Number of PCs')\n",
    "plt.ylabel('Proportion of Variance Explained')\n",
    "plt.xticks(range(1,49,2))\n",
    "plt.axvline(6,color='darkmagenta')\n",
    "plt.show()"
   ]
  },
  {
   "cell_type": "markdown",
   "metadata": {},
   "source": [
    "**Comments**\n",
    "\n",
    "Graph shows us the variance explained by each principal component. \n",
    "\n",
    "At 6 PCs there is a sharp elbow shape, this is where the plot begins to flatten out. After 6 PCs the amount of additional variance explained by further PCs starts to level off. Therefore 6 seems to be the ideal number of PC to proceed with."
   ]
  },
  {
   "cell_type": "code",
   "execution_count": 24,
   "metadata": {},
   "outputs": [],
   "source": [
    "# Instantiate and fit\n",
    "my_PCA = PCA(n_components = 6) # only takes top 6 to be decided from the plot above\n",
    "my_PCA.fit(X)\n",
    "\n",
    "# Transform train and test\n",
    "X_PCA = my_PCA.transform(X)"
   ]
  },
  {
   "cell_type": "code",
   "execution_count": 25,
   "metadata": {},
   "outputs": [
    {
     "name": "stdout",
     "output_type": "stream",
     "text": [
      "Original: (204, 48)\n",
      "PCA Transformed: (204, 6)\n"
     ]
    }
   ],
   "source": [
    "print(f'Original: {X.shape}')\n",
    "print(f'PCA Transformed: {X_PCA.shape}')"
   ]
  },
  {
   "cell_type": "markdown",
   "metadata": {},
   "source": [
    "**Comments:**\n",
    "\n",
    "Number of independent variables is reduced form 48 to 6."
   ]
  },
  {
   "cell_type": "markdown",
   "metadata": {},
   "source": [
    "## Building an OLS Regression Model\n",
    "-----"
   ]
  },
  {
   "cell_type": "markdown",
   "metadata": {},
   "source": [
    "Will not be using Linear_Model_Builder class to build the model since my independent variables are no longer X variables but principal components. My class is not built to deal with this."
   ]
  },
  {
   "cell_type": "code",
   "execution_count": 26,
   "metadata": {},
   "outputs": [],
   "source": [
    "y = car_df['price_transformed']\n",
    "\n",
    "X = X_PCA"
   ]
  },
  {
   "cell_type": "code",
   "execution_count": 30,
   "metadata": {},
   "outputs": [],
   "source": [
    "X_with_c = sm.add_constant(X)      \n",
    "model = sm.OLS(y,X_with_c)\n",
    "my_model = model.fit()"
   ]
  },
  {
   "cell_type": "code",
   "execution_count": 31,
   "metadata": {},
   "outputs": [
    {
     "data": {
      "text/html": [
       "<table class=\"simpletable\">\n",
       "<caption>OLS Regression Results</caption>\n",
       "<tr>\n",
       "  <th>Dep. Variable:</th>    <td>price_transformed</td> <th>  R-squared:         </th> <td>   0.866</td>\n",
       "</tr>\n",
       "<tr>\n",
       "  <th>Model:</th>                   <td>OLS</td>        <th>  Adj. R-squared:    </th> <td>   0.862</td>\n",
       "</tr>\n",
       "<tr>\n",
       "  <th>Method:</th>             <td>Least Squares</td>   <th>  F-statistic:       </th> <td>   211.8</td>\n",
       "</tr>\n",
       "<tr>\n",
       "  <th>Date:</th>             <td>Wed, 24 Jul 2024</td>  <th>  Prob (F-statistic):</th> <td>4.56e-83</td>\n",
       "</tr>\n",
       "<tr>\n",
       "  <th>Time:</th>                 <td>21:52:52</td>      <th>  Log-Likelihood:    </th> <td> -84.346</td>\n",
       "</tr>\n",
       "<tr>\n",
       "  <th>No. Observations:</th>      <td>   204</td>       <th>  AIC:               </th> <td>   182.7</td>\n",
       "</tr>\n",
       "<tr>\n",
       "  <th>Df Residuals:</th>          <td>   197</td>       <th>  BIC:               </th> <td>   205.9</td>\n",
       "</tr>\n",
       "<tr>\n",
       "  <th>Df Model:</th>              <td>     6</td>       <th>                     </th>     <td> </td>   \n",
       "</tr>\n",
       "<tr>\n",
       "  <th>Covariance Type:</th>      <td>nonrobust</td>     <th>                     </th>     <td> </td>   \n",
       "</tr>\n",
       "</table>\n",
       "<table class=\"simpletable\">\n",
       "<tr>\n",
       "    <td></td>       <th>coef</th>     <th>std err</th>      <th>t</th>      <th>P>|t|</th>  <th>[0.025</th>    <th>0.975]</th>  \n",
       "</tr>\n",
       "<tr>\n",
       "  <th>const</th> <td>    0.0060</td> <td>    0.026</td> <td>    0.231</td> <td> 0.817</td> <td>   -0.045</td> <td>    0.057</td>\n",
       "</tr>\n",
       "<tr>\n",
       "  <th>x1</th>    <td>    0.3315</td> <td>    0.010</td> <td>   34.524</td> <td> 0.000</td> <td>    0.313</td> <td>    0.350</td>\n",
       "</tr>\n",
       "<tr>\n",
       "  <th>x2</th>    <td>   -0.0556</td> <td>    0.016</td> <td>   -3.485</td> <td> 0.001</td> <td>   -0.087</td> <td>   -0.024</td>\n",
       "</tr>\n",
       "<tr>\n",
       "  <th>x3</th>    <td>    0.0773</td> <td>    0.023</td> <td>    3.398</td> <td> 0.001</td> <td>    0.032</td> <td>    0.122</td>\n",
       "</tr>\n",
       "<tr>\n",
       "  <th>x4</th>    <td>   -0.0626</td> <td>    0.026</td> <td>   -2.409</td> <td> 0.017</td> <td>   -0.114</td> <td>   -0.011</td>\n",
       "</tr>\n",
       "<tr>\n",
       "  <th>x5</th>    <td>    0.2120</td> <td>    0.032</td> <td>    6.695</td> <td> 0.000</td> <td>    0.150</td> <td>    0.274</td>\n",
       "</tr>\n",
       "<tr>\n",
       "  <th>x6</th>    <td>   -0.0816</td> <td>    0.037</td> <td>   -2.178</td> <td> 0.031</td> <td>   -0.156</td> <td>   -0.008</td>\n",
       "</tr>\n",
       "</table>\n",
       "<table class=\"simpletable\">\n",
       "<tr>\n",
       "  <th>Omnibus:</th>       <td>15.462</td> <th>  Durbin-Watson:     </th> <td>   0.812</td>\n",
       "</tr>\n",
       "<tr>\n",
       "  <th>Prob(Omnibus):</th> <td> 0.000</td> <th>  Jarque-Bera (JB):  </th> <td>  17.019</td>\n",
       "</tr>\n",
       "<tr>\n",
       "  <th>Skew:</th>          <td> 0.621</td> <th>  Prob(JB):          </th> <td>0.000202</td>\n",
       "</tr>\n",
       "<tr>\n",
       "  <th>Kurtosis:</th>      <td> 3.679</td> <th>  Cond. No.          </th> <td>    3.90</td>\n",
       "</tr>\n",
       "</table><br/><br/>Notes:<br/>[1] Standard Errors assume that the covariance matrix of the errors is correctly specified."
      ],
      "text/latex": [
       "\\begin{center}\n",
       "\\begin{tabular}{lclc}\n",
       "\\toprule\n",
       "\\textbf{Dep. Variable:}    & price\\_transformed & \\textbf{  R-squared:         } &     0.866   \\\\\n",
       "\\textbf{Model:}            &        OLS         & \\textbf{  Adj. R-squared:    } &     0.862   \\\\\n",
       "\\textbf{Method:}           &   Least Squares    & \\textbf{  F-statistic:       } &     211.8   \\\\\n",
       "\\textbf{Date:}             &  Wed, 24 Jul 2024  & \\textbf{  Prob (F-statistic):} &  4.56e-83   \\\\\n",
       "\\textbf{Time:}             &      21:52:52      & \\textbf{  Log-Likelihood:    } &   -84.346   \\\\\n",
       "\\textbf{No. Observations:} &          204       & \\textbf{  AIC:               } &     182.7   \\\\\n",
       "\\textbf{Df Residuals:}     &          197       & \\textbf{  BIC:               } &     205.9   \\\\\n",
       "\\textbf{Df Model:}         &            6       & \\textbf{                     } &             \\\\\n",
       "\\textbf{Covariance Type:}  &     nonrobust      & \\textbf{                     } &             \\\\\n",
       "\\bottomrule\n",
       "\\end{tabular}\n",
       "\\begin{tabular}{lcccccc}\n",
       "               & \\textbf{coef} & \\textbf{std err} & \\textbf{t} & \\textbf{P$> |$t$|$} & \\textbf{[0.025} & \\textbf{0.975]}  \\\\\n",
       "\\midrule\n",
       "\\textbf{const} &       0.0060  &        0.026     &     0.231  &         0.817        &       -0.045    &        0.057     \\\\\n",
       "\\textbf{x1}    &       0.3315  &        0.010     &    34.524  &         0.000        &        0.313    &        0.350     \\\\\n",
       "\\textbf{x2}    &      -0.0556  &        0.016     &    -3.485  &         0.001        &       -0.087    &       -0.024     \\\\\n",
       "\\textbf{x3}    &       0.0773  &        0.023     &     3.398  &         0.001        &        0.032    &        0.122     \\\\\n",
       "\\textbf{x4}    &      -0.0626  &        0.026     &    -2.409  &         0.017        &       -0.114    &       -0.011     \\\\\n",
       "\\textbf{x5}    &       0.2120  &        0.032     &     6.695  &         0.000        &        0.150    &        0.274     \\\\\n",
       "\\textbf{x6}    &      -0.0816  &        0.037     &    -2.178  &         0.031        &       -0.156    &       -0.008     \\\\\n",
       "\\bottomrule\n",
       "\\end{tabular}\n",
       "\\begin{tabular}{lclc}\n",
       "\\textbf{Omnibus:}       & 15.462 & \\textbf{  Durbin-Watson:     } &    0.812  \\\\\n",
       "\\textbf{Prob(Omnibus):} &  0.000 & \\textbf{  Jarque-Bera (JB):  } &   17.019  \\\\\n",
       "\\textbf{Skew:}          &  0.621 & \\textbf{  Prob(JB):          } & 0.000202  \\\\\n",
       "\\textbf{Kurtosis:}      &  3.679 & \\textbf{  Cond. No.          } &     3.90  \\\\\n",
       "\\bottomrule\n",
       "\\end{tabular}\n",
       "%\\caption{OLS Regression Results}\n",
       "\\end{center}\n",
       "\n",
       "Notes: \\newline\n",
       " [1] Standard Errors assume that the covariance matrix of the errors is correctly specified."
      ],
      "text/plain": [
       "<class 'statsmodels.iolib.summary.Summary'>\n",
       "\"\"\"\n",
       "                            OLS Regression Results                            \n",
       "==============================================================================\n",
       "Dep. Variable:      price_transformed   R-squared:                       0.866\n",
       "Model:                            OLS   Adj. R-squared:                  0.862\n",
       "Method:                 Least Squares   F-statistic:                     211.8\n",
       "Date:                Wed, 24 Jul 2024   Prob (F-statistic):           4.56e-83\n",
       "Time:                        21:52:52   Log-Likelihood:                -84.346\n",
       "No. Observations:                 204   AIC:                             182.7\n",
       "Df Residuals:                     197   BIC:                             205.9\n",
       "Df Model:                           6                                         \n",
       "Covariance Type:            nonrobust                                         \n",
       "==============================================================================\n",
       "                 coef    std err          t      P>|t|      [0.025      0.975]\n",
       "------------------------------------------------------------------------------\n",
       "const          0.0060      0.026      0.231      0.817      -0.045       0.057\n",
       "x1             0.3315      0.010     34.524      0.000       0.313       0.350\n",
       "x2            -0.0556      0.016     -3.485      0.001      -0.087      -0.024\n",
       "x3             0.0773      0.023      3.398      0.001       0.032       0.122\n",
       "x4            -0.0626      0.026     -2.409      0.017      -0.114      -0.011\n",
       "x5             0.2120      0.032      6.695      0.000       0.150       0.274\n",
       "x6            -0.0816      0.037     -2.178      0.031      -0.156      -0.008\n",
       "==============================================================================\n",
       "Omnibus:                       15.462   Durbin-Watson:                   0.812\n",
       "Prob(Omnibus):                  0.000   Jarque-Bera (JB):               17.019\n",
       "Skew:                           0.621   Prob(JB):                     0.000202\n",
       "Kurtosis:                       3.679   Cond. No.                         3.90\n",
       "==============================================================================\n",
       "\n",
       "Notes:\n",
       "[1] Standard Errors assume that the covariance matrix of the errors is correctly specified.\n",
       "\"\"\""
      ]
     },
     "execution_count": 31,
     "metadata": {},
     "output_type": "execute_result"
    }
   ],
   "source": [
    "my_model.summary()"
   ]
  },
  {
   "cell_type": "markdown",
   "metadata": {},
   "source": [
    "**Comment:**\n",
    "\n",
    "R-squared value: 0.866\n",
    "\n",
    "- The OLS model with PCA is able to explain 87% of the variance in the dataset. In other words, the independent variables in summary table explain 87% of varaince seen in y.\n",
    "- Indicates a strong relationship between the X variables and y, much stronger relationship than base model.\n",
    "- Improvement seen could be due to:\n",
    "    - 6 PCs are able to explain most of the variance in the dataset which could in turn explain more of the variance in the target variable.\n",
    "    - By transforming original X variables into principal components, PCA can discover underlying patterns or relationships in the data that the original data misses.\n",
    "    \n",
    "\n"
   ]
  },
  {
   "cell_type": "markdown",
   "metadata": {},
   "source": [
    "## Model Evalutation\n",
    "---"
   ]
  },
  {
   "cell_type": "code",
   "execution_count": 32,
   "metadata": {},
   "outputs": [],
   "source": [
    "# Extracting residuals\n",
    "residuals = my_model.resid"
   ]
  },
  {
   "cell_type": "markdown",
   "metadata": {},
   "source": [
    "### Histogram of Residuals"
   ]
  },
  {
   "cell_type": "code",
   "execution_count": 37,
   "metadata": {},
   "outputs": [
    {
     "data": {
      "image/png": "[encoded data removed]",
      "text/plain": [
       "<Figure size 800x500 with 1 Axes>"
      ]
     },
     "metadata": {},
     "output_type": "display_data"
    }
   ],
   "source": [
    "# Plotting histogram of residuals\n",
    "plt.figure(figsize=(8,5))\n",
    "plt.hist(residuals, bins=50 ,edgecolor='black', color='teal')\n",
    "plt.axvline(x=residuals.mean(), color='hotpink', label='Mean')\n",
    "plt.axvline(x=residuals.median(), color='yellow', label='Median')\n",
    "plt.title('Histogram of Residuals',fontsize=10, fontweight='bold')\n",
    "plt.xlabel('Residuals')\n",
    "plt.ylabel('Frequency')\n",
    "plt.legend()\n",
    "plt.show()"
   ]
  },
  {
   "cell_type": "markdown",
   "metadata": {},
   "source": [
    "**Comments:**\n",
    "\n",
    "- Residuals do not follow a normal distribution despite mean of the residuals centered at 0\n",
    "- Difference between mean and median less than base model, slight improvement"
   ]
  },
  {
   "cell_type": "markdown",
   "metadata": {},
   "source": [
    "### Shaprio-Wilk Hypothesis Test"
   ]
  },
  {
   "cell_type": "code",
   "execution_count": 40,
   "metadata": {},
   "outputs": [
    {
     "name": "stdout",
     "output_type": "stream",
     "text": [
      "Shapiro-Wilk Hypothesis Test\n",
      "Null Hypothesis : Residuals ARE normally distributed\n",
      "Alternate Hypothesis : Residuals are NOT normally distributed\n",
      "\n",
      "Shapiro Wilk Results:\n",
      "p-value of 0.0006 is less than 0.05, therefore we can reject the null hypothesis and assume the alternate hypothesis holds true\n",
      "            \n"
     ]
    }
   ],
   "source": [
    "# Shapiro-Wilk Hypothesis Test\n",
    "print('Shapiro-Wilk Hypothesis Test')\n",
    "shap_wilk = stats.shapiro(residuals)\n",
    "\n",
    "print('Null Hypothesis : Residuals ARE normally distributed')\n",
    "print('Alternate Hypothesis : Residuals are NOT normally distributed')\n",
    "\n",
    "if shap_wilk[1] < 0.05:\n",
    "    print(f'''\\nShapiro Wilk Results:\\np-value of {round(shap_wilk[1],4)} is less than 0.05, therefore we can reject the null hypothesis and assume the alternate hypothesis holds true\n",
    "            ''')\n",
    "\n",
    "else:\n",
    "    print(f'''\\nShapiro Wilk Results:\\np-value of {round(shap_wilk[1],4)} is greater than or equal to 0.05, therefore we can reject the null hypothesis and assume the alternate hypothesis holds true\n",
    "            ''')"
   ]
  },
  {
   "cell_type": "markdown",
   "metadata": {},
   "source": [
    "**Comments:**\n",
    "\n",
    "- Hypothesis test to assess how well the residuals conform to a normal distribution\n",
    "- Since p-values is less than 0.05 we can reject the null hypotheisis and so the data is not normally distributed."
   ]
  },
  {
   "cell_type": "markdown",
   "metadata": {},
   "source": [
    "### QQ-Plot"
   ]
  },
  {
   "cell_type": "code",
   "execution_count": 41,
   "metadata": {},
   "outputs": [
    {
     "data": {
      "image/png": "[encoded data removed]",
      "text/plain": [
       "<Figure size 640x480 with 1 Axes>"
      ]
     },
     "metadata": {},
     "output_type": "display_data"
    }
   ],
   "source": [
    "plt.figure()\n",
    "stats.probplot(residuals, plot=plt,dist='norm')\n",
    "plt.title('QQ Residual Plot',fontsize=10, fontweight='bold')\n",
    "plt.show()"
   ]
  },
  {
   "cell_type": "markdown",
   "metadata": {},
   "source": [
    "**Comments:**\n",
    "\n",
    "- Plots the actual residuals from final model against residuals which follow a normal distribution.\n",
    "- Model residuals do not lie/follow the line of normally distributed residuals, residuals are not normally distributed. \n",
    "- However in comparison to baseline OLS model, the residuals of model with PCs is closer to the line of normally distributed residuals. This may be due to PCs explaining most of variance in the data leading to residuals closer to normal.\n",
    "\n",
    "\n",
    "\n"
   ]
  },
  {
   "cell_type": "markdown",
   "metadata": {},
   "source": [
    "### Homo/Hetero-scedasticity of Residuals"
   ]
  },
  {
   "cell_type": "code",
   "execution_count": 42,
   "metadata": {},
   "outputs": [
    {
     "data": {
      "image/png": "[encoded data removed]",
      "text/plain": [
       "<Figure size 640x480 with 1 Axes>"
      ]
     },
     "metadata": {},
     "output_type": "display_data"
    }
   ],
   "source": [
    "# Homo/Hetero-scedasticity of Residuals\n",
    "pred_y = my_model.predict(X_with_c)\n",
    "plt.figure()\n",
    "plt.scatter(x= pred_y, y=residuals, alpha=0.5, color='teal') \n",
    "plt.xlabel('Predicted Price')\n",
    "plt.ylabel('Residuals')\n",
    "plt.title('Homo/Hetero-scedasticity of Residuals',fontsize=10, fontweight='bold')\n",
    "plt.show()"
   ]
  },
  {
   "cell_type": "markdown",
   "metadata": {},
   "source": [
    "**Comments:**\n",
    "\n",
    "- Homoschedasticity describes case where the spread of residuals is constant for all predicted values of y (price)\n",
    "- Constant variance of residuals, looks as if the residuals of PCA model are homoschedastic unlike base model residuals.\n",
    "- Could be due to PCA represenation of the data. "
   ]
  },
  {
   "cell_type": "markdown",
   "metadata": {},
   "source": [
    "## Model Evaluation\n",
    "----"
   ]
  },
  {
   "cell_type": "code",
   "execution_count": 43,
   "metadata": {},
   "outputs": [],
   "source": [
    "# Using my_final_model to make predictions\n",
    "pred_y = my_model.predict(X_with_c)"
   ]
  },
  {
   "cell_type": "code",
   "execution_count": 44,
   "metadata": {},
   "outputs": [],
   "source": [
    "from sklearn.metrics import mean_absolute_error, mean_squared_error\n",
    "\n",
    "mae = mean_absolute_error(y, pred_y)\n",
    "mse = mean_squared_error(y, pred_y)"
   ]
  },
  {
   "cell_type": "code",
   "execution_count": 45,
   "metadata": {},
   "outputs": [
    {
     "name": "stdout",
     "output_type": "stream",
     "text": [
      "mean_absolute_error [MAE]: 0.2782\n",
      " mean_squared_error [MSE]: 0.1339\n"
     ]
    }
   ],
   "source": [
    "print(f\"mean_absolute_error [MAE]: {mae.round(4)}\")\n",
    "print(f\" mean_squared_error [MSE]: {mse.round(4)}\")"
   ]
  },
  {
   "cell_type": "markdown",
   "metadata": {},
   "source": [
    "- **MAE: 0.2782**\n",
    "    - On average, the models predictions are 0.2782 units off from the actual value of y.\n",
    "    \n",
    "- **MSE: 0.1339**\n",
    "    - On average, the squared difference of predictions from actual y is 0.1339 units.\n"
   ]
  },
  {
   "cell_type": "markdown",
   "metadata": {},
   "source": [
    "## Model Comparison\n",
    "----"
   ]
  },
  {
   "cell_type": "markdown",
   "metadata": {},
   "source": [
    "| Model | R<sup>2<sup/>| MSE   | MAE   | Number of Features|\n",
    "|-------|--------------|-------|-------|-------------------|\n",
    "| Base  | 0.645        | 0.354 | 0.448 | 5                 |\n",
    "| + PCA | 0.866        | 0.134 | 0.278 | 6                 |"
   ]
  },
  {
   "cell_type": "markdown",
   "metadata": {},
   "source": [
    "**1. R-squared**\n",
    "\n",
    "- The OLS model with PCA is able to explain 87% of the variance in the dataset. In other words, the independent variables in summary table explain 87% of varaince seen in y.\n",
    "- Indicates a strong relationship between the X variables and y, much stronger relationship than base model.\n",
    "- Improvement seen could be due to:\n",
    "    - 6 PCs are able to explain most of the variance in the dataset which could in turn explain more of the variance in the target variable.\n",
    "    - By transforming original X variables into principal components, PCA can discover underlying patterns or relationships in the data that the original data misses.\n",
    "    \n",
    "\n",
    "**2. Mean Squared Error (MSE):**\n",
    "\n",
    "- The MSE for the PCA model is substantially lower, suggesting that the model where PCA is applied has less fewer prediction errors.\n",
    "\n",
    "**3. Mean Absolute Error (MAE):**\n",
    "\n",
    "- The MAE for the PCA model is lower, suggesting improved prediction accuracy and a closer fit to the actual values of y.\n"
   ]
  },
  {
   "cell_type": "markdown",
   "metadata": {},
   "source": [
    "## Conclusion\n",
    "----"
   ]
  },
  {
   "cell_type": "markdown",
   "metadata": {},
   "source": [
    "The application of PCA to the OLS regression model has led to an improvement in model performance.\n",
    "\n",
    "The PCA model explains a higher proportion of the variance in the target variable, shows lower prediction errors and meets assumption 4 (homoschedasticity of residuals).\n",
    "\n",
    "This demonstrates the effectiveness of PCA in improving model accuracy and reliability.\n",
    "\n",
    "However since our features are now principal components (linear combinations of original features) our model is less explaianble as it is hard to explain what each PC represents in a business sense.\n",
    "\n",
    "**Next Steps:**\n",
    "\n",
    "- Assessment:\n",
    "    - Use train/test split in order to perform a more rigourous test on model's performance\n",
    "    - By testing the model on unseen data, we can assess the ability of the model to generalise.\n",
    "    - Compare ability to generalise to baseline model.\n"
   ]
  }
 ],
 "metadata": {
  "kernelspec": {
   "display_name": "stats_models",
   "language": "python",
   "name": "python3"
  },
  "language_info": {
   "codemirror_mode": {
    "name": "ipython",
    "version": 3
   },
   "file_extension": ".py",
   "mimetype": "text/x-python",
   "name": "python",
   "nbconvert_exporter": "python",
   "pygments_lexer": "ipython3",
   "version": "3.11.5"
  }
 },
 "nbformat": 4,
 "nbformat_minor": 2
}
